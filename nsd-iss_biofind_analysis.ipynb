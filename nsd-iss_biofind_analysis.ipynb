{
 "cells": [
  {
   "cell_type": "markdown",
   "metadata": {},
   "source": [
    "# <a id='toc1_'></a>[Analyze and visualize NSD-ISS framework applied to the BioFIND cohort](#toc0_)\n",
    "\n",
    "**Date:** 11/3/2024  \n",
    "**Author:** Marco Russo, MD, PhD \n",
    "https://github.com/dr-russo    \n",
    "\n",
    "**Libraries**\n",
    "* pandas  \n",
    "* numpy\n",
    "* scikit-learn  \n",
    "* matplotlib\n",
    "* seaborn \n",
    "\n",
    "**BioFIND Data Files**  n/a \n",
    "\n",
    "**Derived Data Files**  \n",
    "* biofind_composite_data.csv - created by nsd-iss_biofind_tidying.ipynb\n",
    "\n",
    "**Output**\n",
    "* biofind_mds-updrs_data.csv - consolidated data table for all MDS-UPDRS data\n",
    "* figures as separate .svg files\n",
    "\n",
    "**Abbreviations**  \n",
    "PD: Parkinson's disease\n",
    "BioFIND: Fox Investigation for New Discovery of Biomarkers (BioFIND) cohort study\n",
    "LEDD: levdopa-equivalent daily dose\n",
    "MDS-UPDRS: Movement Disorder Society Unified Parkinson’s Disease Rating Scale\n",
    "MoCA: Montreal Cognitive Assessment\n",
    "NSD: Neuronal Synuclein Disease\n",
    "ISS: Integrated Staging System\n",
    "RBD: REM sleep behavior disorder\n"
   ]
  },
  {
   "cell_type": "markdown",
   "metadata": {},
   "source": [
    "**Table of contents**<a id='toc0_'></a>    \n",
    "- [Analyze and visualize NSD-ISS framework applied to the BioFIND cohort](#toc1_)    \n",
    "    - [Determine NSD status of BioFIND participants with aSyn-SAA data](#toc1_1_1_)    \n",
    "    - [CSF Alpha-synuclein Seed Amplification Assay Results in BioFIND](#toc1_1_2_)    \n",
    "    - [Determine NSD-ISS stages for BioFIND cohort](#toc1_1_3_)    \n",
    "    - [Descriptive statistics of clinical measures for each ISS stage in BioFIND](#toc1_1_4_)    \n",
    "    - [Calculate cognitive / motor / non-motor anchors separately](#toc1_1_5_)    \n",
    "    - [Number of S+ BioFIND participants within each ISS stage - Figure 1A](#toc1_1_6_)    \n",
    "    - [Distribution of disease duration within each stage - Figure 1B](#toc1_1_7_)    \n",
    "    - [MDS-UPDRS Part III vs. Part II for each ISS Stage - Figure 1C](#toc1_1_8_)    \n",
    "    - [Distribution of H&Y Stage within each ISS stage - Figure 1D](#toc1_1_9_)    \n",
    "    - [Distribution of PD vs PIGD motor phenotypes within each ISS stage - Figure 1E](#toc1_1_10_)    \n",
    "    - [MOCA vs. MDS-UPRDS Part I Question 1 - Figure 1F](#toc1_1_11_)    \n",
    "    - [Stage distributions according to quartiles of disease duration](#toc1_1_12_)    \n",
    "    - [Distribution of stages according to disease duration >median (longer disease duration) vs < median (shorter disease duration)](#toc1_1_13_)    \n",
    "\n",
    "<!-- vscode-jupyter-toc-config\n",
    "\tnumbering=false\n",
    "\tanchor=true\n",
    "\tflat=false\n",
    "\tminLevel=1\n",
    "\tmaxLevel=6\n",
    "\t/vscode-jupyter-toc-config -->\n",
    "<!-- THIS CELL WILL BE REPLACED ON TOC UPDATE. DO NOT WRITE YOUR TEXT IN THIS CELL -->"
   ]
  },
  {
   "cell_type": "code",
   "execution_count": 2,
   "metadata": {},
   "outputs": [],
   "source": [
    "# Imports\n",
    "import matplotlib\n",
    "import matplotlib.pyplot as plt\n",
    "from matplotlib.ticker import MultipleLocator\n",
    "import numpy as np\n",
    "import pandas as pd\n",
    "from pandas import DataFrame, Series\n",
    "import seaborn as sns"
   ]
  },
  {
   "cell_type": "code",
   "execution_count": 3,
   "metadata": {},
   "outputs": [],
   "source": [
    "# Set display options\n",
    "pd.set_option(\"display.max_columns\", 200)\n",
    "pd.set_option(\"display.max_rows\", 500)\n",
    "\n",
    "# Enable multiline outputs\n",
    "from IPython.core.interactiveshell import InteractiveShell\n",
    "InteractiveShell.ast_node_interactivity = \"all\"\n",
    "\n",
    "# Set float formatting\n",
    "from IPython.display import display\n",
    "pd.options.display.float_format = \"{:,.2f}\".format"
   ]
  },
  {
   "cell_type": "code",
   "execution_count": null,
   "metadata": {},
   "outputs": [],
   "source": [
    "# Load biofind composite dataframe created by nsd-iss_biofind_tidying.ipynb\n",
    "data = pd.read_csv(\"biofind_composite_data.csv\", header=0)"
   ]
  },
  {
   "cell_type": "markdown",
   "metadata": {},
   "source": [
    "### <a id='toc1_1_1_'></a>[NSD Status of BioFIND Cohort](#toc0_)"
   ]
  },
  {
   "cell_type": "code",
   "execution_count": 6,
   "metadata": {},
   "outputs": [
    {
     "data": {
      "text/plain": [
       "SAA_AG\n",
       "Positive    105\n",
       "Negative      3\n",
       "Name: count, dtype: int64"
      ]
     },
     "execution_count": 6,
     "metadata": {},
     "output_type": "execute_result"
    },
    {
     "data": {
      "text/plain": [
       "SAA_BC\n",
       "Positive                   105\n",
       "Negative                     2\n",
       "Inconclusive (Negative)      1\n",
       "Name: count, dtype: int64"
      ]
     },
     "execution_count": 6,
     "metadata": {},
     "output_type": "execute_result"
    },
    {
     "data": {
      "text/plain": [
       "SAA_CS\n",
       "Positive               103\n",
       "Negative                 5\n",
       "Positive (doubtful)      1\n",
       "Name: count, dtype: int64"
      ]
     },
     "execution_count": 6,
     "metadata": {},
     "output_type": "execute_result"
    }
   ],
   "source": [
    "# Show value counts for each SAA result set\n",
    "data[\"SAA_AG\"].value_counts()\n",
    "data[\"SAA_BC\"].value_counts()\n",
    "data[\"SAA_CS\"].value_counts()"
   ]
  },
  {
   "cell_type": "code",
   "execution_count": 7,
   "metadata": {},
   "outputs": [],
   "source": [
    "# 'Score' each SAA result condition to facilitate selecting only those with 2 positive results out of 3\n",
    "saa_result = {\n",
    "    \"Positive\": 1,\n",
    "    \"Negative\": 0,\n",
    "    \"Inconclusive (Negative)\": 0.25,\n",
    "    \"Positive (doubtful)\": 0.25,\n",
    "}"
   ]
  },
  {
   "cell_type": "code",
   "execution_count": 8,
   "metadata": {},
   "outputs": [],
   "source": [
    "data[\"SAA_SCORE\"] = (\n",
    "    data[\"SAA_AG\"].apply(lambda id: saa_result.get(id, 0.5))\n",
    "    + data[\"SAA_BC\"].apply(lambda id: saa_result.get(id, 0))\n",
    "    + data[\"SAA_CS\"].apply(lambda id: saa_result.get(id, 0))\n",
    ")"
   ]
  },
  {
   "cell_type": "code",
   "execution_count": null,
   "metadata": {},
   "outputs": [
    {
     "data": {
      "text/plain": [
       "SAA_SCORE\n",
       "0.00      2\n",
       "0.50     10\n",
       "1.00      1\n",
       "1.25      1\n",
       "1.50      1\n",
       "2.00      1\n",
       "2.25      1\n",
       "3.00    102\n",
       "Name: count, dtype: int64"
      ]
     },
     "execution_count": 9,
     "metadata": {},
     "output_type": "execute_result"
    }
   ],
   "source": [
    "# Look at distribution of SAA 'scores'\n",
    "data[\"SAA_SCORE\"].value_counts().sort_index()"
   ]
  },
  {
   "cell_type": "markdown",
   "metadata": {},
   "source": [
    "### <a id='toc1_1_2_'></a>[CSF $\\alpha$-Syn-SAA Results in BioFIND](#toc0_)\n",
    "\n",
    "|                     | AGreen  | BCaughey  | CSoto |\n",
    "|----------------------:|:-------:|:--------: |:-----:|\n",
    "| Positive                | 105     | 105       | 103   |\n",
    "| Negative                |  3      |  2        | 5     |\n",
    "| Inconclusive (Negative) |     -    |  1        |     -  |\n",
    "| Positive ('doubtful')   |     -   |      -     | 1     |\n",
    "\n",
    "AG : 97.2% positive"
   ]
  },
  {
   "cell_type": "code",
   "execution_count": 10,
   "metadata": {},
   "outputs": [],
   "source": [
    "# SAA POSITIVE iff SAA score indicates agreement on 2 or more assays\n",
    "# SAA_SCORE is sum of scores across the 3 assays\n",
    "data[\"SAA_RESULT\"] = data[\"SAA_SCORE\"].apply(lambda x: True if x >= 2.0 else False)"
   ]
  },
  {
   "cell_type": "code",
   "execution_count": 11,
   "metadata": {},
   "outputs": [
    {
     "data": {
      "text/plain": [
       "SAA_RESULT\n",
       "True     104\n",
       "False     15\n",
       "Name: count, dtype: int64"
      ]
     },
     "execution_count": 11,
     "metadata": {},
     "output_type": "execute_result"
    }
   ],
   "source": [
    "data[\"SAA_RESULT\"].value_counts()"
   ]
  },
  {
   "cell_type": "code",
   "execution_count": 12,
   "metadata": {},
   "outputs": [],
   "source": [
    "# Select only SAA positive participants\n",
    "data_spos = data[data[\"SAA_RESULT\"]]"
   ]
  },
  {
   "cell_type": "code",
   "execution_count": null,
   "metadata": {},
   "outputs": [],
   "source": [
    "# Uncomment to save composite data with SAA result attached\n",
    "# data.to_csv('biofind_composite_data_saa_positive.csv', header=True)"
   ]
  },
  {
   "cell_type": "code",
   "execution_count": null,
   "metadata": {},
   "outputs": [
    {
     "name": "stderr",
     "output_type": "stream",
     "text": [
      "/var/folders/n4/w6v8srtx4y78szfjzd7pfqhw0000gn/T/ipykernel_15337/348819507.py:1: SettingWithCopyWarning: \n",
      "A value is trying to be set on a copy of a slice from a DataFrame.\n",
      "Try using .loc[row_indexer,col_indexer] = value instead\n",
      "\n",
      "See the caveats in the documentation: https://pandas.pydata.org/pandas-docs/stable/user_guide/indexing.html#returning-a-view-versus-a-copy\n",
      "  data_spos['MOCA_U24'] = data_spos['MCATOT'].apply(lambda x: 1 if x <= 24 else 0)\n"
     ]
    }
   ],
   "source": [
    "data_spos[\"MOCA_U24\"] = data_spos[\"MCATOT\"].apply(lambda x: 1 if x <= 24 else 0)"
   ]
  },
  {
   "cell_type": "markdown",
   "metadata": {},
   "source": [
    "---"
   ]
  },
  {
   "cell_type": "markdown",
   "metadata": {},
   "source": [
    "### <a id='toc1_1_3_'></a>[NSD-ISS Stages for BioFIND Cohort](#toc0_)"
   ]
  },
  {
   "cell_type": "markdown",
   "metadata": {},
   "source": [
    "**STAGING ANCHORS FOR NSD-ISS** \n",
    "\n",
    "|  \t|  \t| \t|  \t|  \t| Anchors of clinical signs or symptoms (stages 2A and 2B) and functional impairment (stages 3-6)<sup>1, 2</sup> \t|\n",
    "|---\t|:---:\t|:---:\t|:---:\t|---\t|---\t|\n",
    "|   Stage   \t|   S   \t|   D<sup>a</sup>   \t|   G   \t|   Domain   \t|   Anchor(s)   \t|\n",
    "|   Stage 0   \t|   -   \t|   -   \t|   SNCA<sup>b</sup>   \t|   —   \t|   —   \t|\n",
    "|   Stage 1A   \t|   +   \t|   -   \t|   ±   \t|   (1) Cognitive <br>   (2) Motor <br>   (3) Other non-motor   \t|   (1) MDS-UPDRS item 1.1 = 0; and <br>   (2a) Does not have subthreshold parkinsonism<sup>c</sup>; **and** (2b) is not on PD meds; and  <br> (3a) Does not have RBD; and (3b) is not hyposmic<sup>d</sup>   \t|\n",
    "|   Stage 1B   \t|   +   \t|   +   \t|   ±   \t|  \t|  \t|\n",
    "|   Stage 2A   \t|   +   \t|   -   \t|   ±   \t|   (1) Cognitive<br>    (2) Motor<br>    (3) Other non-motor<br>   \t|   (1) Item 1.1 = 1 AND MoCA ≥ 25; or<br>    (2a) Has subthreshold parkinsonism<sup>c</sup>; or (2b) is on PD meds; or<br>    (3a) Has RBD; or (3b) is hyposmic<sup>d</sup>   \t|\n",
    "|   Stage 2B   \t|   +   \t|   +   \t|   ±   \t|  \t|  \t|\n",
    "|   Stage 3   \t|   +   \t|   +   \t|   ±   \t|   (1) Cognitive<br>    (2) Motor<br>   \t|   (1a) Item 1.1 = 1 AND MoCA ≤ 24; or (1b) Item 1.1 = 2 AND MoCA ≥ 25; or <br>    (2) MDS-UPDRS-II = 3-13 AND either subthreshold parkinsonism<sup>c</sup> or PD meds   \t|\n",
    "|   Stage 4   \t|   +   \t|   +   \t|   ±   \t|   (1) Cognitive<br>    (2) Motor<br>    (3) Other non-motor   \t|   (1a) Item 1.1 = 2 and MoCA ≤ 24; or (1b) item 1.1 = 3 AND MoCA ≥ 25; or<br>    (2) MDS-UPDRS-II = 14-26; or<br>    (3) MDS-UPDRS-I (excluding item 1.1) = 13-24<sup>e</sup>   \t|\n",
    "|   Stage 5   \t|   +   \t|   +   \t|   ±   \t|   (1) Cognitive<br>   (2) Motor<br>    (3) Other non-motor   \t|   (1a) Item 1.1 = 3 AND MoCA ≤ 24; or (1b) item 1.1 = 4 AND MoCA ≥ 25; or<br>    (2) MDS-UPDRS-II = 27-39; or<br>    (3) MDS-UPDRS-I (excluding item 1.1) = 25-36   \t|\n",
    "|   Stage 6   \t|   +   \t|   +   \t|   ±   \t|   (1) Cognitive<br>    (2) Motor<br>    (3) Other non-motor   \t|   (1) Item 1.1 = 4 AND MoCA ≤ 24; or<br>    (2) MDS-UPDRS-II ≥ 40; or<br>    (3) MDS-UPDRS-I (excluding item 1.1) ≥ 37   \t|\n",
    "\n",
    "*1* Presence of qualifying signs/ symptoms in any single domain qualifies for stage 2 but individuals can have combination in all 3 domains.<br>\n",
    "*2* Presence of qualifying functional impairment in any single domain qualifies for stage 3-6 but individuals can have combination in all 3 domains.<br>\n",
    "*a* D positivity defined as < 75% age/sex-expected lowest putamen SBR.<br>\n",
    "*b* Only fully penetrant pathogenic SNCA variants qualify for Stage 0.<br>\n",
    "*c* Subthreshold parkinsonism defined as **MDS-UPDRS-III ≥ 5** excluding postural and action tremor.<br>\n",
    "*d* Hyposmia defined as UPSIT percentile ≤ 15 (age and sex adjusted).<br>\n",
    "*e* MDS-UPDRS-I (excluding item 1.1) ≥ 13 is sufficient for stage 4 provided that stage 2 criteria are met.<br>\n",
    "\n",
    "\n",
    "<ref>Dam, T. et al. Neuronal alpha-Synuclein Disease integrated staging system performance in PPMI, PASADENA, and SPARK baseline cohorts. npj Parkinsons Disease 10, 178 (2024).</ref>"
   ]
  },
  {
   "cell_type": "markdown",
   "metadata": {},
   "source": [
    "**MDS-UPDRS Question 1.1 | COGNITIVE IMPAIRMENT**<br>\n",
    "This question & its response takes pivotal role in the NSD-ISS and so is elaborated here:\n",
    ">Consider all types of altered level of cognitive function including cognitive slowing, impaired reasoning, memory loss, deficits in attention and orientation. Rate their impact on activities of daily living as perceived by the patient and/or caregiver.\n",
    ">Instructions to patient [and caregiver]: Over the past week have you had problems remembering things, following conversations, paying attention, thinking clearly, or finding your way around the house or in\n",
    ">town?\n",
    "* (0) Normal: No cognitive impairment.\n",
    "* (1) Slight: Impairment appreciated by patient or caregiver with no concrete interference with the patient’s ability to carry out normal activities and social interactions.\n",
    "* (2) Mild: Clinically evident cognitive dysfunction, but only minimal interference with the patient’s ability to carry out normal activities and social interactions.\n",
    "* (3) Moderate: Cognitive deficits interfere with but do not preclude the patient’s ability to carry out normal activities and social interactions.\n",
    "* (4) Severe: Cognitive dysfunction precludes the patient’s ability to carry out normal activities and social interactions."
   ]
  },
  {
   "cell_type": "code",
   "execution_count": 22,
   "metadata": {},
   "outputs": [],
   "source": [
    "# [Inelegant] function for assigning stage to each subject\n",
    "# Note, absent UPSIT data and DaT-SPECT data are limitations of BioFIND dataset\n",
    "\n",
    "\n",
    "def func_staging(row):\n",
    "    if (\n",
    "        ((row[\"NP1COG\"] == 4) and (row[\"MCATOT\"] <= 24))\n",
    "        or (row[\"P2TOT\"] >= 40)\n",
    "        or (row[\"P1TOT\"] >= 37)\n",
    "    ):\n",
    "        return 6\n",
    "    elif (\n",
    "        ((row[\"NP1COG\"] == 3) and (row[\"MCATOT\"] <= 24))\n",
    "        or ((row[\"NP1COG\"] == 4) and (row[\"MCATOT\"] >= 25))\n",
    "        or (row[\"P2TOT\"] >= 27 and row[\"P2TOT\"] <= 39)\n",
    "        or ((row[\"P1TOT\"] >= 25) and (row[\"P1TOT\"] <= 36))\n",
    "    ):\n",
    "        return 5\n",
    "    elif (\n",
    "        ((row[\"NP1COG\"] == 2) and (row[\"MCATOT\"] <= 24))\n",
    "        or ((row[\"NP1COG\"] == 3) and (row[\"P2TOT\"] >= 25))\n",
    "        or (row[\"P2TOT\"] >= 14 and row[\"P2TOT\"] <= 26)\n",
    "        or ((row[\"P1TOT\"] >= 13) and (row[\"P1TOT\"] <= 24))\n",
    "        or ((row[\"P1TOT\"] >= 13) and row[\"PDMEDYN\"] == 1 and row[\"RBD_STATUS\"])\n",
    "    ):\n",
    "        return 4\n",
    "    elif (\n",
    "        ((row[\"NP1COG\"] == 1) and (row[\"MCATOT\"] <= 24))\n",
    "        or ((row[\"NP1COG\"] == 2) and (row[\"MCATOT\"] >= 24))\n",
    "        or ((row[\"P2TOT\"] >= 3 and row[\"P2TOT\"] <= 13))\n",
    "        and ((row[\"P3TOT\"] >= 5) or (row[\"PDMEDYN\"] == 1))\n",
    "    ):\n",
    "        return 3\n",
    "    elif (\n",
    "        ((row[\"NP1COG\"] == 1) and (row[\"MCATOT\"] >= 25))\n",
    "        or ((row[\"P3TOT\"] >= 5) or (row[\"PDMEDYN\"] == 1))\n",
    "        or (row[\"RBD_STATUS\"] == 1)\n",
    "    ):  # No UPSIT\n",
    "        return 2\n",
    "    elif ((row[\"NP1COG\"] == 0) and (row[\"P3TOT\"] < 5) and (row[\"PDMEDYN\"] == 0)) and (\n",
    "        row[\"RBD_STATUS\"] == 0\n",
    "    ):\n",
    "        return 1\n",
    "    else:\n",
    "        return np.nan"
   ]
  },
  {
   "cell_type": "code",
   "execution_count": null,
   "metadata": {},
   "outputs": [],
   "source": [
    "# Apply the above staging function to all subjects\n",
    "data_spos.loc[:, \"STAGE\"] = data_spos.apply(func_staging, axis=1)"
   ]
  },
  {
   "cell_type": "markdown",
   "metadata": {},
   "source": [
    "### <a id='toc1_1_4_'></a>[Descriptive Statistics for each ISS Stage in BioFIND](#toc0_)"
   ]
  },
  {
   "cell_type": "code",
   "execution_count": null,
   "metadata": {},
   "outputs": [
    {
     "name": "stderr",
     "output_type": "stream",
     "text": [
      "/var/folders/n4/w6v8srtx4y78szfjzd7pfqhw0000gn/T/ipykernel_15337/4008048980.py:14: FutureWarning: The provided callable <function nanmean at 0x105ca3380> is currently using SeriesGroupBy.mean. In a future version of pandas, the provided callable will be used directly. To keep current behavior pass the string \"mean\" instead.\n",
      "  data_spos[cols2avg].groupby(\"STAGE\").agg([np.nanmean, np.nanstd]).transpose()\n",
      "/var/folders/n4/w6v8srtx4y78szfjzd7pfqhw0000gn/T/ipykernel_15337/4008048980.py:14: FutureWarning: The provided callable <function nanstd at 0x105ca3d80> is currently using SeriesGroupBy.std. In a future version of pandas, the provided callable will be used directly. To keep current behavior pass the string \"std\" instead.\n",
      "  data_spos[cols2avg].groupby(\"STAGE\").agg([np.nanmean, np.nanstd]).transpose()\n"
     ]
    },
    {
     "data": {
      "text/html": [
       "<div>\n",
       "<style scoped>\n",
       "    .dataframe tbody tr th:only-of-type {\n",
       "        vertical-align: middle;\n",
       "    }\n",
       "\n",
       "    .dataframe tbody tr th {\n",
       "        vertical-align: top;\n",
       "    }\n",
       "\n",
       "    .dataframe thead th {\n",
       "        text-align: right;\n",
       "    }\n",
       "</style>\n",
       "<table border=\"1\" class=\"dataframe\">\n",
       "  <thead>\n",
       "    <tr style=\"text-align: right;\">\n",
       "      <th></th>\n",
       "      <th>STAGE</th>\n",
       "      <th>2</th>\n",
       "      <th>3</th>\n",
       "      <th>4</th>\n",
       "      <th>5</th>\n",
       "    </tr>\n",
       "  </thead>\n",
       "  <tbody>\n",
       "    <tr>\n",
       "      <th rowspan=\"2\" valign=\"top\">AGE</th>\n",
       "      <th>nanmean</th>\n",
       "      <td>66.41</td>\n",
       "      <td>67.86</td>\n",
       "      <td>69.14</td>\n",
       "      <td>68.60</td>\n",
       "    </tr>\n",
       "    <tr>\n",
       "      <th>nanstd</th>\n",
       "      <td>6.85</td>\n",
       "      <td>6.66</td>\n",
       "      <td>6.34</td>\n",
       "      <td>5.52</td>\n",
       "    </tr>\n",
       "    <tr>\n",
       "      <th rowspan=\"2\" valign=\"top\">DUR_DIAG</th>\n",
       "      <th>nanmean</th>\n",
       "      <td>5.10</td>\n",
       "      <td>6.42</td>\n",
       "      <td>7.43</td>\n",
       "      <td>10.76</td>\n",
       "    </tr>\n",
       "    <tr>\n",
       "      <th>nanstd</th>\n",
       "      <td>2.30</td>\n",
       "      <td>2.93</td>\n",
       "      <td>3.61</td>\n",
       "      <td>6.37</td>\n",
       "    </tr>\n",
       "    <tr>\n",
       "      <th rowspan=\"2\" valign=\"top\">P1TOT</th>\n",
       "      <th>nanmean</th>\n",
       "      <td>3.44</td>\n",
       "      <td>7.07</td>\n",
       "      <td>12.54</td>\n",
       "      <td>14.50</td>\n",
       "    </tr>\n",
       "    <tr>\n",
       "      <th>nanstd</th>\n",
       "      <td>3.32</td>\n",
       "      <td>2.97</td>\n",
       "      <td>5.46</td>\n",
       "      <td>3.54</td>\n",
       "    </tr>\n",
       "    <tr>\n",
       "      <th rowspan=\"2\" valign=\"top\">P2TOT</th>\n",
       "      <th>nanmean</th>\n",
       "      <td>1.44</td>\n",
       "      <td>8.60</td>\n",
       "      <td>16.06</td>\n",
       "      <td>26.50</td>\n",
       "    </tr>\n",
       "    <tr>\n",
       "      <th>nanstd</th>\n",
       "      <td>0.73</td>\n",
       "      <td>3.16</td>\n",
       "      <td>4.54</td>\n",
       "      <td>6.36</td>\n",
       "    </tr>\n",
       "    <tr>\n",
       "      <th rowspan=\"2\" valign=\"top\">P3TOT</th>\n",
       "      <th>nanmean</th>\n",
       "      <td>19.33</td>\n",
       "      <td>24.53</td>\n",
       "      <td>29.34</td>\n",
       "      <td>44.00</td>\n",
       "    </tr>\n",
       "    <tr>\n",
       "      <th>nanstd</th>\n",
       "      <td>7.79</td>\n",
       "      <td>12.29</td>\n",
       "      <td>13.09</td>\n",
       "      <td>7.07</td>\n",
       "    </tr>\n",
       "    <tr>\n",
       "      <th rowspan=\"2\" valign=\"top\">P3ON</th>\n",
       "      <th>nanmean</th>\n",
       "      <td>19.33</td>\n",
       "      <td>24.53</td>\n",
       "      <td>29.34</td>\n",
       "      <td>44.00</td>\n",
       "    </tr>\n",
       "    <tr>\n",
       "      <th>nanstd</th>\n",
       "      <td>7.79</td>\n",
       "      <td>12.29</td>\n",
       "      <td>13.09</td>\n",
       "      <td>7.07</td>\n",
       "    </tr>\n",
       "    <tr>\n",
       "      <th rowspan=\"2\" valign=\"top\">P3OFF</th>\n",
       "      <th>nanmean</th>\n",
       "      <td>26.78</td>\n",
       "      <td>33.83</td>\n",
       "      <td>37.91</td>\n",
       "      <td>53.00</td>\n",
       "    </tr>\n",
       "    <tr>\n",
       "      <th>nanstd</th>\n",
       "      <td>6.44</td>\n",
       "      <td>12.45</td>\n",
       "      <td>10.27</td>\n",
       "      <td>15.56</td>\n",
       "    </tr>\n",
       "    <tr>\n",
       "      <th rowspan=\"2\" valign=\"top\">MCATOT</th>\n",
       "      <th>nanmean</th>\n",
       "      <td>27.44</td>\n",
       "      <td>27.22</td>\n",
       "      <td>26.23</td>\n",
       "      <td>25.50</td>\n",
       "    </tr>\n",
       "    <tr>\n",
       "      <th>nanstd</th>\n",
       "      <td>1.74</td>\n",
       "      <td>2.44</td>\n",
       "      <td>2.43</td>\n",
       "      <td>4.95</td>\n",
       "    </tr>\n",
       "    <tr>\n",
       "      <th rowspan=\"2\" valign=\"top\">LEDD</th>\n",
       "      <th>nanmean</th>\n",
       "      <td>219.06</td>\n",
       "      <td>273.84</td>\n",
       "      <td>260.51</td>\n",
       "      <td>310.01</td>\n",
       "    </tr>\n",
       "    <tr>\n",
       "      <th>nanstd</th>\n",
       "      <td>131.27</td>\n",
       "      <td>284.69</td>\n",
       "      <td>464.61</td>\n",
       "      <td>281.95</td>\n",
       "    </tr>\n",
       "  </tbody>\n",
       "</table>\n",
       "</div>"
      ],
      "text/plain": [
       "STAGE                 2      3      4      5\n",
       "AGE      nanmean  66.41  67.86  69.14  68.60\n",
       "         nanstd    6.85   6.66   6.34   5.52\n",
       "DUR_DIAG nanmean   5.10   6.42   7.43  10.76\n",
       "         nanstd    2.30   2.93   3.61   6.37\n",
       "P1TOT    nanmean   3.44   7.07  12.54  14.50\n",
       "         nanstd    3.32   2.97   5.46   3.54\n",
       "P2TOT    nanmean   1.44   8.60  16.06  26.50\n",
       "         nanstd    0.73   3.16   4.54   6.36\n",
       "P3TOT    nanmean  19.33  24.53  29.34  44.00\n",
       "         nanstd    7.79  12.29  13.09   7.07\n",
       "P3ON     nanmean  19.33  24.53  29.34  44.00\n",
       "         nanstd    7.79  12.29  13.09   7.07\n",
       "P3OFF    nanmean  26.78  33.83  37.91  53.00\n",
       "         nanstd    6.44  12.45  10.27  15.56\n",
       "MCATOT   nanmean  27.44  27.22  26.23  25.50\n",
       "         nanstd    1.74   2.44   2.43   4.95\n",
       "LEDD     nanmean 219.06 273.84 260.51 310.01\n",
       "         nanstd  131.27 284.69 464.61 281.95"
      ]
     },
     "metadata": {},
     "output_type": "display_data"
    }
   ],
   "source": [
    "cols2avg = [\n",
    "    \"STAGE\",\n",
    "    \"AGE\",\n",
    "    \"DUR_DIAG\",\n",
    "    \"P1TOT\",\n",
    "    \"P2TOT\",\n",
    "    \"P3TOT\",\n",
    "    \"P3ON\",\n",
    "    \"P3OFF\",\n",
    "    \"MCATOT\",\n",
    "    \"LEDD\",\n",
    "]\n",
    "cols2count = [\"GENDER\", \"RBD_STATUS\", \"MTYPE\"]\n",
    "data_spos[cols2avg].groupby(\"STAGE\").agg([np.nanmean, np.nanstd]).transpose()"
   ]
  },
  {
   "cell_type": "code",
   "execution_count": null,
   "metadata": {},
   "outputs": [
    {
     "name": "stderr",
     "output_type": "stream",
     "text": [
      "/var/folders/n4/w6v8srtx4y78szfjzd7pfqhw0000gn/T/ipykernel_56554/286359019.py:1: FutureWarning: The provided callable <function nanmean at 0x1141c0d60> is currently using Series.mean. In a future version of pandas, the provided callable will be used directly. To keep current behavior pass the string \"mean\" instead.\n",
      "  spos[cols2avg].agg([np.nanmean, np.nanstd]).transpose()\n",
      "/var/folders/n4/w6v8srtx4y78szfjzd7pfqhw0000gn/T/ipykernel_56554/286359019.py:1: FutureWarning: The provided callable <function nanstd at 0x1141c1760> is currently using Series.std. In a future version of pandas, the provided callable will be used directly. To keep current behavior pass the string \"std\" instead.\n",
      "  spos[cols2avg].agg([np.nanmean, np.nanstd]).transpose()\n"
     ]
    },
    {
     "data": {
      "text/html": [
       "<div>\n",
       "<style scoped>\n",
       "    .dataframe tbody tr th:only-of-type {\n",
       "        vertical-align: middle;\n",
       "    }\n",
       "\n",
       "    .dataframe tbody tr th {\n",
       "        vertical-align: top;\n",
       "    }\n",
       "\n",
       "    .dataframe thead th {\n",
       "        text-align: right;\n",
       "    }\n",
       "</style>\n",
       "<table border=\"1\" class=\"dataframe\">\n",
       "  <thead>\n",
       "    <tr style=\"text-align: right;\">\n",
       "      <th></th>\n",
       "      <th>nanmean</th>\n",
       "      <th>nanstd</th>\n",
       "    </tr>\n",
       "  </thead>\n",
       "  <tbody>\n",
       "    <tr>\n",
       "      <th>STAGE</th>\n",
       "      <td>3.29</td>\n",
       "      <td>0.65</td>\n",
       "    </tr>\n",
       "    <tr>\n",
       "      <th>AGE</th>\n",
       "      <td>68.18</td>\n",
       "      <td>6.51</td>\n",
       "    </tr>\n",
       "    <tr>\n",
       "      <th>DUR_DIAG</th>\n",
       "      <td>6.73</td>\n",
       "      <td>3.26</td>\n",
       "    </tr>\n",
       "    <tr>\n",
       "      <th>P1TOT</th>\n",
       "      <td>8.74</td>\n",
       "      <td>5.03</td>\n",
       "    </tr>\n",
       "    <tr>\n",
       "      <th>P2TOT</th>\n",
       "      <td>10.84</td>\n",
       "      <td>6.11</td>\n",
       "    </tr>\n",
       "    <tr>\n",
       "      <th>P3TOT</th>\n",
       "      <td>26.08</td>\n",
       "      <td>12.67</td>\n",
       "    </tr>\n",
       "    <tr>\n",
       "      <th>P3ON</th>\n",
       "      <td>26.08</td>\n",
       "      <td>12.67</td>\n",
       "    </tr>\n",
       "    <tr>\n",
       "      <th>P3OFF</th>\n",
       "      <td>34.96</td>\n",
       "      <td>11.92</td>\n",
       "    </tr>\n",
       "    <tr>\n",
       "      <th>MCATOT</th>\n",
       "      <td>26.88</td>\n",
       "      <td>2.44</td>\n",
       "    </tr>\n",
       "    <tr>\n",
       "      <th>LEDD</th>\n",
       "      <td>764.25</td>\n",
       "      <td>603.39</td>\n",
       "    </tr>\n",
       "  </tbody>\n",
       "</table>\n",
       "</div>"
      ],
      "text/plain": [
       "          nanmean  nanstd\n",
       "STAGE        3.29    0.65\n",
       "AGE         68.18    6.51\n",
       "DUR_DIAG     6.73    3.26\n",
       "P1TOT        8.74    5.03\n",
       "P2TOT       10.84    6.11\n",
       "P3TOT       26.08   12.67\n",
       "P3ON        26.08   12.67\n",
       "P3OFF       34.96   11.92\n",
       "MCATOT      26.88    2.44\n",
       "LEDD       764.25  603.39"
      ]
     },
     "metadata": {},
     "output_type": "display_data"
    }
   ],
   "source": [
    "data_spos[cols2avg].agg([np.nanmean, np.nanstd]).transpose()\n",
    "# spos.groupby(list(df.select_dtypes(exclude=[np.number]))).agg(np.median).reset_index()"
   ]
  },
  {
   "cell_type": "code",
   "execution_count": null,
   "metadata": {},
   "outputs": [
    {
     "data": {
      "text/plain": [
       "<bound method Series.sort_index of STAGE  GENDER\n",
       "2      2          5\n",
       "       1          4\n",
       "3      2         35\n",
       "       1         23\n",
       "4      2         19\n",
       "       1         16\n",
       "5      2          2\n",
       "Name: count, dtype: int64>"
      ]
     },
     "metadata": {},
     "output_type": "display_data"
    }
   ],
   "source": [
    "# Get gender for each stage\n",
    "data_spos.groupby(\"STAGE\")[\"GENDER\"].value_counts().sort_index"
   ]
  },
  {
   "cell_type": "markdown",
   "metadata": {},
   "source": [
    "### <a id='toc1_1_5_'></a>[Cognitive/Motor/Non-motor Anchors Calculated Independently](#toc0_)"
   ]
  },
  {
   "cell_type": "code",
   "execution_count": 14,
   "metadata": {},
   "outputs": [],
   "source": [
    "# Define functions to calculate the cognitive, motor, and non-motor stages for NSD-ISS\n",
    "\n",
    "\n",
    "# Calculate cognitive score (stage) separately\n",
    "def cogscore(row):\n",
    "    if row[\"NP1COG\"] == 0:\n",
    "        return 1\n",
    "    elif row[\"NP1COG\"] == 1 and row[\"MCATOT\"] >= 25:\n",
    "        return 2\n",
    "    elif (row[\"NP1COG\"] == 1 and row[\"MCATOT\"] <= 24) or (\n",
    "        row[\"NP1COG\"] == 2 and row[\"MCATOT\"] >= 25\n",
    "    ):\n",
    "        return 3\n",
    "    elif (row[\"NP1COG\"] == 2 and row[\"MCATOT\"] <= 24) or (\n",
    "        row[\"NP1COG\"] == 3 and row[\"MCATOT\"] >= 25\n",
    "    ):\n",
    "        return 4\n",
    "    elif (row[\"NP1COG\"] == 3 and row[\"MCATOT\"] <= 24) or (\n",
    "        row[\"NP1COG\"] == 4 and row[\"MCATOT\"] >= 25\n",
    "    ):\n",
    "        return 5\n",
    "    elif ((row[\"NP1COG\"] == 4) and (row[\"MCATOT\"] <= 24)) or (\n",
    "        row[\"P2TOT\"] >= 40 or row[\"P1TOT\"] >= 37\n",
    "    ):\n",
    "        return 6\n",
    "    else:\n",
    "        return np.nan\n",
    "\n",
    "\n",
    "# Calculate motor score (stage) separately\n",
    "def motorscore(row):\n",
    "    if row[\"P2TOT\"] >= 40:\n",
    "        return 6\n",
    "    elif row[\"P2TOT\"] >= 27 and row[\"P2TOT\"] <= 39:\n",
    "        return 5\n",
    "    elif row[\"P2TOT\"] >= 14 and row[\"P2TOT\"] <= 26:\n",
    "        return 4\n",
    "    elif (row[\"P2TOT\"] >= 3 and row[\"P2TOT\"] <= 13) and (\n",
    "        row[\"P3TOT\"] >= 5 or row[\"PDMEDYN\"]\n",
    "    ):\n",
    "        return 3\n",
    "    elif row[\"P3TOT\"] >= 5 or row[\"PDMEDYN\"]:\n",
    "        return 2\n",
    "    else:\n",
    "        return np.nan\n",
    "\n",
    "\n",
    "# Calculate non-motor score (stage) separately\n",
    "def nonmotorscore(row):\n",
    "    if row[\"P1TOT\"] >= 37:\n",
    "        return 6\n",
    "    elif row[\"P1TOT\"] >= 25 and row[\"P1TOT\"] <= 36:\n",
    "        return 5\n",
    "    elif row[\"P1TOT\"] >= 13 and row[\"P1TOT\"] <= 24:\n",
    "        return 4\n",
    "    elif row[\"RBD_STATUS\"]:  # no hyposmia data\n",
    "        return 2\n",
    "    else:\n",
    "        return np.nan"
   ]
  },
  {
   "cell_type": "code",
   "execution_count": 15,
   "metadata": {},
   "outputs": [
    {
     "name": "stderr",
     "output_type": "stream",
     "text": [
      "/var/folders/n4/w6v8srtx4y78szfjzd7pfqhw0000gn/T/ipykernel_15337/945975057.py:1: SettingWithCopyWarning: \n",
      "A value is trying to be set on a copy of a slice from a DataFrame.\n",
      "Try using .loc[row_indexer,col_indexer] = value instead\n",
      "\n",
      "See the caveats in the documentation: https://pandas.pydata.org/pandas-docs/stable/user_guide/indexing.html#returning-a-view-versus-a-copy\n",
      "  data_spos.loc[:,'COGSCORE'] = data_spos.apply(cogscore, axis=1)\n"
     ]
    }
   ],
   "source": [
    "data_spos.loc[:, \"COGSCORE\"] = data_spos.apply(cogscore, axis=1)"
   ]
  },
  {
   "cell_type": "code",
   "execution_count": 16,
   "metadata": {},
   "outputs": [
    {
     "name": "stderr",
     "output_type": "stream",
     "text": [
      "/var/folders/n4/w6v8srtx4y78szfjzd7pfqhw0000gn/T/ipykernel_15337/2788556942.py:1: SettingWithCopyWarning: \n",
      "A value is trying to be set on a copy of a slice from a DataFrame.\n",
      "Try using .loc[row_indexer,col_indexer] = value instead\n",
      "\n",
      "See the caveats in the documentation: https://pandas.pydata.org/pandas-docs/stable/user_guide/indexing.html#returning-a-view-versus-a-copy\n",
      "  data_spos.loc[:,'MOTORSCORE'] = data_spos.apply(motorscore, axis=1)\n"
     ]
    }
   ],
   "source": [
    "data_spos.loc[:, \"MOTORSCORE\"] = data_spos.apply(motorscore, axis=1)"
   ]
  },
  {
   "cell_type": "code",
   "execution_count": null,
   "metadata": {},
   "outputs": [],
   "source": [
    "data_spos.loc[:, \"NONMOTORSCORE\"] = data_spos.apply(nonmotorscore, axis=1)"
   ]
  },
  {
   "cell_type": "code",
   "execution_count": 19,
   "metadata": {},
   "outputs": [
    {
     "data": {
      "text/plain": [
       "COGSCORE        1.74\n",
       "MOTORSCORE      3.20\n",
       "NONMOTORSCORE   2.73\n",
       "dtype: float64"
      ]
     },
     "execution_count": 19,
     "metadata": {},
     "output_type": "execute_result"
    }
   ],
   "source": [
    "# Calculate mean stage/'score' for each anchor\n",
    "data_spos[[\"COGSCORE\", \"MOTORSCORE\", \"NONMOTORSCORE\"]].agg(\"mean\", axis=0)"
   ]
  },
  {
   "cell_type": "code",
   "execution_count": 20,
   "metadata": {},
   "outputs": [
    {
     "name": "stderr",
     "output_type": "stream",
     "text": [
      "/var/folders/n4/w6v8srtx4y78szfjzd7pfqhw0000gn/T/ipykernel_15337/3618237554.py:2: SettingWithCopyWarning: \n",
      "A value is trying to be set on a copy of a slice from a DataFrame.\n",
      "Try using .loc[row_indexer,col_indexer] = value instead\n",
      "\n",
      "See the caveats in the documentation: https://pandas.pydata.org/pandas-docs/stable/user_guide/indexing.html#returning-a-view-versus-a-copy\n",
      "  data_spos.loc[:,'COGSCORE_LARGEST'] = (data_spos['COGSCORE'] > data_spos['MOTORSCORE']) & (data_spos['COGSCORE'] > data_spos['NONMOTORSCORE'])\n"
     ]
    }
   ],
   "source": [
    "# FLag those participants that have higher cognitive stage than either motor or non-motor stages\n",
    "data_spos.loc[:, \"COGSCORE_LARGEST\"] = (\n",
    "    data_spos[\"COGSCORE\"] > data_spos[\"MOTORSCORE\"]\n",
    ") & (data_spos[\"COGSCORE\"] > data_spos[\"NONMOTORSCORE\"])\n",
    "\n",
    "data_spos[[\"COGSCORE\", \"MOTORSCORE\", \"NONMOTORSCORE\", \"COGSCORE_LARGEST\"]].sort_index()"
   ]
  },
  {
   "cell_type": "markdown",
   "metadata": {},
   "source": [
    "### <a id='toc1_1_6_'></a>[Number of S+ BioFIND within each ISS Stage - Figure 1A](#toc0_)"
   ]
  },
  {
   "cell_type": "code",
   "execution_count": 25,
   "metadata": {},
   "outputs": [
    {
     "data": {
      "text/plain": [
       "STAGE\n",
       "2     9\n",
       "3    58\n",
       "4    35\n",
       "5     2\n",
       "Name: count, dtype: int64"
      ]
     },
     "execution_count": 25,
     "metadata": {},
     "output_type": "execute_result"
    }
   ],
   "source": [
    "# Count number of participants within each stage\n",
    "data_spos[data_spos[\"SAA_RESULT\"]][\"STAGE\"].value_counts().sort_index()"
   ]
  },
  {
   "cell_type": "code",
   "execution_count": 27,
   "metadata": {},
   "outputs": [],
   "source": [
    "# Numbers participants within each stage with S+ (aSyn-SAA)\n",
    "stage_nums_spos = [0, 9, 58, 35, 2, 0]\n",
    "stage_pct_spos = np.array(stage_nums_spos) / sum(stage_nums_spos) * 100"
   ]
  },
  {
   "cell_type": "code",
   "execution_count": 28,
   "metadata": {},
   "outputs": [],
   "source": [
    "# Plot style and colors\n",
    "plot_settings = {\n",
    "    \"ytick.labelsize\": 14,\n",
    "    \"xtick.labelsize\": 14,\n",
    "    \"font.size\": 14,\n",
    "    \"figure.figsize\": (8, 6),\n",
    "    \"axes.titlesize\": 16,\n",
    "    \"axes.labelsize\": 16,\n",
    "    \"lines.linewidth\": 1.6,\n",
    "    \"mathtext.fontset\": \"stix\",\n",
    "    \"font.family\": \"Helvetica\",\n",
    "}\n",
    "\n",
    "stage_colors = [\"#18689D\", \"#6FB6DB\", \"#FFF047\", \"#FB9D4F\", \"#CB5D51\", \"#CA0017\"]\n",
    "dict_stage_colors = {\n",
    "    1: \"#18689D\",\n",
    "    2: \"#6FB6DB\",\n",
    "    3: \"#FFF047\",\n",
    "    4: \"#FB9D4F\",\n",
    "    5: \"#CB5D51\",\n",
    "    6: \"#CA0017\",\n",
    "}"
   ]
  },
  {
   "cell_type": "code",
   "execution_count": null,
   "metadata": {},
   "outputs": [
    {
     "data": {
      "image/png": "[encoded data removed]",
      "text/plain": [
       "<Figure size 400x600 with 1 Axes>"
      ]
     },
     "metadata": {},
     "output_type": "display_data"
    }
   ],
   "source": [
    "# Plot stages as percentile fractions, all S+ PD - FIGURE 1A\n",
    "with plt.style.context(plot_settings):\n",
    "    fig, ax = plt.subplots(figsize=(4, 6))\n",
    "    colors = stage_colors\n",
    "    width = 0.6\n",
    "    bottom = 0\n",
    "    # Build stacked bar plot:\n",
    "    for i, col in enumerate(stage_pct_spos):\n",
    "        ax.bar(1.1, stage_pct_spos[i], width=width, bottom=bottom, color=colors[i])\n",
    "        bottom += stage_pct_spos[i]\n",
    "\n",
    "    # Annotate bar plot\n",
    "    labels = [\"Stage 1\", \"Stage 2\", \"Stage 3\", \"Stage 4\", \"Stage 5\", \"Stage 6\"]\n",
    "    y_offset = 0\n",
    "    x_offset = 0.02\n",
    "    # Add text annotations to each patch of plot\n",
    "    for n, bar in enumerate(ax.patches):\n",
    "        if stage_pct_spos[n] != 0:\n",
    "            ax.text(\n",
    "                bar.get_x() + bar.get_width() / 2,  # xpos\n",
    "                bar.get_height() + bar.get_y() - bar.get_height() / 2,  # ypos\n",
    "                \"{} ({:.1f}%)\".format(stage_nums_spos[n], stage_pct_spos[n]),  # text\n",
    "                ha=\"center\",\n",
    "                color=\"k\",\n",
    "                weight=\"bold\",\n",
    "                size=12,\n",
    "            )\n",
    "            ax.text(\n",
    "                bar.get_x() - x_offset,\n",
    "                bar.get_height() + bar.get_y() - bar.get_height() / 2,\n",
    "                s=labels[n],\n",
    "                color=\"k\",\n",
    "                size=14,\n",
    "                ha=\"right\",\n",
    "            )\n",
    "\n",
    "# Additional style adjustments\n",
    "ax.set_xticks([1])\n",
    "ax.set_xticklabels(\"\", weight=\"bold\")\n",
    "ax.tick_params(axis=\"y\", labelsize=16)\n",
    "ax.tick_params(bottom=False, left=True, labelleft=True)\n",
    "ax.spines[\"top\"].set_color(\"none\")\n",
    "ax.spines[\"right\"].set_color(\"none\")\n",
    "ax.set_xlim([0.5, 1.5])\n",
    "ax.set_ylabel(\"%\", size=16)\n",
    "fig.tight_layout(pad=1)\n",
    "\n",
    "plt.show()\n",
    "\n",
    "# Uncomment to save figure\n",
    "# fig.savefig(\"fig_1a_biofind_spos_stages_numbers_percentages.svg\", dpi=300, transparent=True)"
   ]
  },
  {
   "cell_type": "markdown",
   "metadata": {},
   "source": [
    "### <a id='toc1_1_7_'></a>[Distribution of disease duration within each stage - Figure 1B](#toc0_)"
   ]
  },
  {
   "cell_type": "code",
   "execution_count": null,
   "metadata": {},
   "outputs": [],
   "source": [
    "# Group disease duration by each stage\n",
    "gb_stage = data_spos.groupby(\"STAGE\")[\"DUR_DIAG\"].agg([\"mean\", \"std\"])\n",
    "\n",
    "x = data_spos[\"DUR_DIAG\"]\n",
    "y = data_spos[\"STAGE\"]\n",
    "\n",
    "xmean = gb_stage[\"mean\"]\n",
    "xerr = gb_stage[\"std\"]"
   ]
  },
  {
   "cell_type": "code",
   "execution_count": null,
   "metadata": {},
   "outputs": [
    {
     "data": {
      "image/png": "[encoded data removed]",
      "text/plain": [
       "<Figure size 500x450 with 1 Axes>"
      ]
     },
     "metadata": {},
     "output_type": "display_data"
    }
   ],
   "source": [
    "# Build plot for PD disease duration at each NSD-ISS stage - FIGURE 1B\n",
    "with plt.style.context(plot_settings):\n",
    "    fig, ax = plt.subplots(figsize=(5, 4.5))\n",
    "\n",
    "    for index, value in xmean.items():\n",
    "        ax.errorbar(\n",
    "            value,\n",
    "            index,\n",
    "            xerr=xerr[index],\n",
    "            ecolor=stage_colors[(index - 1)],\n",
    "            capsize=0,\n",
    "            marker=\"|\",\n",
    "            markersize=20,\n",
    "            color=\"k\",\n",
    "            elinewidth=20,\n",
    "            linewidth=0,\n",
    "            markeredgewidth=2,\n",
    "            zorder=0,\n",
    "        )\n",
    "\n",
    "    ax.scatter(x, y, s=14, color=\"#666666\", zorder=10)\n",
    "\n",
    "    ax.set_yticks([1, 2, 3, 4, 5, 6])\n",
    "    ax.set_xticks(list(range(0, 21, 2)))\n",
    "    ax.set_xlim(-0.2, 18)\n",
    "    ax.set_ylim(1.2, 6.5)\n",
    "    ax.tick_params(axis=\"y\", length=0)\n",
    "\n",
    "    ax.set_xlabel(\"Disease duration (years from diagnosis)\")\n",
    "    ax.set_ylabel(\"Stage\")\n",
    "    # ax.set_title('Disease Duration within Each Stage')\n",
    "    plt.grid(axis=\"y\", linestyle=\"--\", linewidth=0.25, zorder=-10)\n",
    "\n",
    "    ax.xaxis.set_minor_locator(MultipleLocator(1))\n",
    "\n",
    "plt.show()\n",
    "\n",
    "# Uncomment to save figure\n",
    "# fig.savefig(\"fig_1b_disease_duration_across_stages.svg\", dpi=300, transparent=True)"
   ]
  },
  {
   "cell_type": "markdown",
   "metadata": {},
   "source": [
    "### <a id='toc1_1_8_'></a>[MDS-UPDRS Part III vs. Part II for each ISS Stage - Figure 1C](#toc0_)"
   ]
  },
  {
   "cell_type": "code",
   "execution_count": 50,
   "metadata": {},
   "outputs": [
    {
     "name": "stdout",
     "output_type": "stream",
     "text": [
      "0 31\n"
     ]
    }
   ],
   "source": [
    "# P3OFF and P2TOT for each stage\n",
    "y = data_spos[\"P3OFF\"].values\n",
    "x = data_spos[\"P2TOT\"].values\n",
    "stages = data_spos[\"STAGE\"].values\n",
    "cmap = [dict_stage_colors.get(x) for x in stages]\n",
    "print(min(x), max(x))"
   ]
  },
  {
   "cell_type": "code",
   "execution_count": null,
   "metadata": {},
   "outputs": [
    {
     "data": {
      "image/png": "[encoded data removed]",
      "text/plain": [
       "<Figure size 550x500 with 1 Axes>"
      ]
     },
     "metadata": {},
     "output_type": "display_data"
    }
   ],
   "source": [
    "# MDS-UPDRS Part III vs. Part II - FIGURE 1C\n",
    "with plt.style.context(plot_settings):\n",
    "    fig, ax = plt.subplots(figsize=(5.5, 5))\n",
    "    ax.scatter(\n",
    "        x,\n",
    "        y,\n",
    "        color=cmap,\n",
    "        linewidth=0.5,\n",
    "        edgecolors=\"#9A9A9A\",\n",
    "        marker=\"o\",\n",
    "        s=80,\n",
    "        zorder=10,\n",
    "    )\n",
    "    plt.axhline(y=26, linestyle=\"--\", color=\"gray\", linewidth=1.25)\n",
    "    plt.axhline(y=34, linestyle=\"--\", color=\"gray\", linewidth=1.25)\n",
    "    plt.axhline(y=44, linestyle=\"--\", color=\"gray\", linewidth=1.25)\n",
    "    ax.set_ylim(-2, 66)\n",
    "    ax.set_xlim(-0.5, 32)\n",
    "    ax.yaxis.set_ticks(np.arange(0, 64, 10))\n",
    "    ax.xaxis.set_ticks(np.arange(0, 32, 5))\n",
    "    ax.set_ylabel(\"UPDRS Part III Score, OFF\")\n",
    "    ax.set_xlabel(\"UPDRS Part II Score\")\n",
    "\n",
    "    # ax.xaxis.set_minor_locator(MultipleLocator(1))\n",
    "    # ax.yaxis.set_minor_locator(MultipleLocator(1))\n",
    "\n",
    "    ax.xaxis.set_minor_locator(matplotlib.ticker.AutoMinorLocator(2))\n",
    "    ax.yaxis.set_minor_locator(matplotlib.ticker.AutoMinorLocator(2))\n",
    "\n",
    "\n",
    "plt.show();\n",
    "\n",
    "# Uncomment to save figure \n",
    "# fig.savefig(\"figure_xx_p3score_v_p2score_stages.svg\", dpi=300, transparent=True)\n"
   ]
  },
  {
   "cell_type": "code",
   "execution_count": 54,
   "metadata": {},
   "outputs": [
    {
     "data": {
      "text/html": [
       "<style>#sk-container-id-1 {\n",
       "  /* Definition of color scheme common for light and dark mode */\n",
       "  --sklearn-color-text: black;\n",
       "  --sklearn-color-line: gray;\n",
       "  /* Definition of color scheme for unfitted estimators */\n",
       "  --sklearn-color-unfitted-level-0: #fff5e6;\n",
       "  --sklearn-color-unfitted-level-1: #f6e4d2;\n",
       "  --sklearn-color-unfitted-level-2: #ffe0b3;\n",
       "  --sklearn-color-unfitted-level-3: chocolate;\n",
       "  /* Definition of color scheme for fitted estimators */\n",
       "  --sklearn-color-fitted-level-0: #f0f8ff;\n",
       "  --sklearn-color-fitted-level-1: #d4ebff;\n",
       "  --sklearn-color-fitted-level-2: #b3dbfd;\n",
       "  --sklearn-color-fitted-level-3: cornflowerblue;\n",
       "\n",
       "  /* Specific color for light theme */\n",
       "  --sklearn-color-text-on-default-background: var(--sg-text-color, var(--theme-code-foreground, var(--jp-content-font-color1, black)));\n",
       "  --sklearn-color-background: var(--sg-background-color, var(--theme-background, var(--jp-layout-color0, white)));\n",
       "  --sklearn-color-border-box: var(--sg-text-color, var(--theme-code-foreground, var(--jp-content-font-color1, black)));\n",
       "  --sklearn-color-icon: #696969;\n",
       "\n",
       "  @media (prefers-color-scheme: dark) {\n",
       "    /* Redefinition of color scheme for dark theme */\n",
       "    --sklearn-color-text-on-default-background: var(--sg-text-color, var(--theme-code-foreground, var(--jp-content-font-color1, white)));\n",
       "    --sklearn-color-background: var(--sg-background-color, var(--theme-background, var(--jp-layout-color0, #111)));\n",
       "    --sklearn-color-border-box: var(--sg-text-color, var(--theme-code-foreground, var(--jp-content-font-color1, white)));\n",
       "    --sklearn-color-icon: #878787;\n",
       "  }\n",
       "}\n",
       "\n",
       "#sk-container-id-1 {\n",
       "  color: var(--sklearn-color-text);\n",
       "}\n",
       "\n",
       "#sk-container-id-1 pre {\n",
       "  padding: 0;\n",
       "}\n",
       "\n",
       "#sk-container-id-1 input.sk-hidden--visually {\n",
       "  border: 0;\n",
       "  clip: rect(1px 1px 1px 1px);\n",
       "  clip: rect(1px, 1px, 1px, 1px);\n",
       "  height: 1px;\n",
       "  margin: -1px;\n",
       "  overflow: hidden;\n",
       "  padding: 0;\n",
       "  position: absolute;\n",
       "  width: 1px;\n",
       "}\n",
       "\n",
       "#sk-container-id-1 div.sk-dashed-wrapped {\n",
       "  border: 1px dashed var(--sklearn-color-line);\n",
       "  margin: 0 0.4em 0.5em 0.4em;\n",
       "  box-sizing: border-box;\n",
       "  padding-bottom: 0.4em;\n",
       "  background-color: var(--sklearn-color-background);\n",
       "}\n",
       "\n",
       "#sk-container-id-1 div.sk-container {\n",
       "  /* jupyter's `normalize.less` sets `[hidden] { display: none; }`\n",
       "     but bootstrap.min.css set `[hidden] { display: none !important; }`\n",
       "     so we also need the `!important` here to be able to override the\n",
       "     default hidden behavior on the sphinx rendered scikit-learn.org.\n",
       "     See: https://github.com/scikit-learn/scikit-learn/issues/21755 */\n",
       "  display: inline-block !important;\n",
       "  position: relative;\n",
       "}\n",
       "\n",
       "#sk-container-id-1 div.sk-text-repr-fallback {\n",
       "  display: none;\n",
       "}\n",
       "\n",
       "div.sk-parallel-item,\n",
       "div.sk-serial,\n",
       "div.sk-item {\n",
       "  /* draw centered vertical line to link estimators */\n",
       "  background-image: linear-gradient(var(--sklearn-color-text-on-default-background), var(--sklearn-color-text-on-default-background));\n",
       "  background-size: 2px 100%;\n",
       "  background-repeat: no-repeat;\n",
       "  background-position: center center;\n",
       "}\n",
       "\n",
       "/* Parallel-specific style estimator block */\n",
       "\n",
       "#sk-container-id-1 div.sk-parallel-item::after {\n",
       "  content: \"\";\n",
       "  width: 100%;\n",
       "  border-bottom: 2px solid var(--sklearn-color-text-on-default-background);\n",
       "  flex-grow: 1;\n",
       "}\n",
       "\n",
       "#sk-container-id-1 div.sk-parallel {\n",
       "  display: flex;\n",
       "  align-items: stretch;\n",
       "  justify-content: center;\n",
       "  background-color: var(--sklearn-color-background);\n",
       "  position: relative;\n",
       "}\n",
       "\n",
       "#sk-container-id-1 div.sk-parallel-item {\n",
       "  display: flex;\n",
       "  flex-direction: column;\n",
       "}\n",
       "\n",
       "#sk-container-id-1 div.sk-parallel-item:first-child::after {\n",
       "  align-self: flex-end;\n",
       "  width: 50%;\n",
       "}\n",
       "\n",
       "#sk-container-id-1 div.sk-parallel-item:last-child::after {\n",
       "  align-self: flex-start;\n",
       "  width: 50%;\n",
       "}\n",
       "\n",
       "#sk-container-id-1 div.sk-parallel-item:only-child::after {\n",
       "  width: 0;\n",
       "}\n",
       "\n",
       "/* Serial-specific style estimator block */\n",
       "\n",
       "#sk-container-id-1 div.sk-serial {\n",
       "  display: flex;\n",
       "  flex-direction: column;\n",
       "  align-items: center;\n",
       "  background-color: var(--sklearn-color-background);\n",
       "  padding-right: 1em;\n",
       "  padding-left: 1em;\n",
       "}\n",
       "\n",
       "\n",
       "/* Toggleable style: style used for estimator/Pipeline/ColumnTransformer box that is\n",
       "clickable and can be expanded/collapsed.\n",
       "- Pipeline and ColumnTransformer use this feature and define the default style\n",
       "- Estimators will overwrite some part of the style using the `sk-estimator` class\n",
       "*/\n",
       "\n",
       "/* Pipeline and ColumnTransformer style (default) */\n",
       "\n",
       "#sk-container-id-1 div.sk-toggleable {\n",
       "  /* Default theme specific background. It is overwritten whether we have a\n",
       "  specific estimator or a Pipeline/ColumnTransformer */\n",
       "  background-color: var(--sklearn-color-background);\n",
       "}\n",
       "\n",
       "/* Toggleable label */\n",
       "#sk-container-id-1 label.sk-toggleable__label {\n",
       "  cursor: pointer;\n",
       "  display: block;\n",
       "  width: 100%;\n",
       "  margin-bottom: 0;\n",
       "  padding: 0.5em;\n",
       "  box-sizing: border-box;\n",
       "  text-align: center;\n",
       "}\n",
       "\n",
       "#sk-container-id-1 label.sk-toggleable__label-arrow:before {\n",
       "  /* Arrow on the left of the label */\n",
       "  content: \"▸\";\n",
       "  float: left;\n",
       "  margin-right: 0.25em;\n",
       "  color: var(--sklearn-color-icon);\n",
       "}\n",
       "\n",
       "#sk-container-id-1 label.sk-toggleable__label-arrow:hover:before {\n",
       "  color: var(--sklearn-color-text);\n",
       "}\n",
       "\n",
       "/* Toggleable content - dropdown */\n",
       "\n",
       "#sk-container-id-1 div.sk-toggleable__content {\n",
       "  max-height: 0;\n",
       "  max-width: 0;\n",
       "  overflow: hidden;\n",
       "  text-align: left;\n",
       "  /* unfitted */\n",
       "  background-color: var(--sklearn-color-unfitted-level-0);\n",
       "}\n",
       "\n",
       "#sk-container-id-1 div.sk-toggleable__content.fitted {\n",
       "  /* fitted */\n",
       "  background-color: var(--sklearn-color-fitted-level-0);\n",
       "}\n",
       "\n",
       "#sk-container-id-1 div.sk-toggleable__content pre {\n",
       "  margin: 0.2em;\n",
       "  border-radius: 0.25em;\n",
       "  color: var(--sklearn-color-text);\n",
       "  /* unfitted */\n",
       "  background-color: var(--sklearn-color-unfitted-level-0);\n",
       "}\n",
       "\n",
       "#sk-container-id-1 div.sk-toggleable__content.fitted pre {\n",
       "  /* unfitted */\n",
       "  background-color: var(--sklearn-color-fitted-level-0);\n",
       "}\n",
       "\n",
       "#sk-container-id-1 input.sk-toggleable__control:checked~div.sk-toggleable__content {\n",
       "  /* Expand drop-down */\n",
       "  max-height: 200px;\n",
       "  max-width: 100%;\n",
       "  overflow: auto;\n",
       "}\n",
       "\n",
       "#sk-container-id-1 input.sk-toggleable__control:checked~label.sk-toggleable__label-arrow:before {\n",
       "  content: \"▾\";\n",
       "}\n",
       "\n",
       "/* Pipeline/ColumnTransformer-specific style */\n",
       "\n",
       "#sk-container-id-1 div.sk-label input.sk-toggleable__control:checked~label.sk-toggleable__label {\n",
       "  color: var(--sklearn-color-text);\n",
       "  background-color: var(--sklearn-color-unfitted-level-2);\n",
       "}\n",
       "\n",
       "#sk-container-id-1 div.sk-label.fitted input.sk-toggleable__control:checked~label.sk-toggleable__label {\n",
       "  background-color: var(--sklearn-color-fitted-level-2);\n",
       "}\n",
       "\n",
       "/* Estimator-specific style */\n",
       "\n",
       "/* Colorize estimator box */\n",
       "#sk-container-id-1 div.sk-estimator input.sk-toggleable__control:checked~label.sk-toggleable__label {\n",
       "  /* unfitted */\n",
       "  background-color: var(--sklearn-color-unfitted-level-2);\n",
       "}\n",
       "\n",
       "#sk-container-id-1 div.sk-estimator.fitted input.sk-toggleable__control:checked~label.sk-toggleable__label {\n",
       "  /* fitted */\n",
       "  background-color: var(--sklearn-color-fitted-level-2);\n",
       "}\n",
       "\n",
       "#sk-container-id-1 div.sk-label label.sk-toggleable__label,\n",
       "#sk-container-id-1 div.sk-label label {\n",
       "  /* The background is the default theme color */\n",
       "  color: var(--sklearn-color-text-on-default-background);\n",
       "}\n",
       "\n",
       "/* On hover, darken the color of the background */\n",
       "#sk-container-id-1 div.sk-label:hover label.sk-toggleable__label {\n",
       "  color: var(--sklearn-color-text);\n",
       "  background-color: var(--sklearn-color-unfitted-level-2);\n",
       "}\n",
       "\n",
       "/* Label box, darken color on hover, fitted */\n",
       "#sk-container-id-1 div.sk-label.fitted:hover label.sk-toggleable__label.fitted {\n",
       "  color: var(--sklearn-color-text);\n",
       "  background-color: var(--sklearn-color-fitted-level-2);\n",
       "}\n",
       "\n",
       "/* Estimator label */\n",
       "\n",
       "#sk-container-id-1 div.sk-label label {\n",
       "  font-family: monospace;\n",
       "  font-weight: bold;\n",
       "  display: inline-block;\n",
       "  line-height: 1.2em;\n",
       "}\n",
       "\n",
       "#sk-container-id-1 div.sk-label-container {\n",
       "  text-align: center;\n",
       "}\n",
       "\n",
       "/* Estimator-specific */\n",
       "#sk-container-id-1 div.sk-estimator {\n",
       "  font-family: monospace;\n",
       "  border: 1px dotted var(--sklearn-color-border-box);\n",
       "  border-radius: 0.25em;\n",
       "  box-sizing: border-box;\n",
       "  margin-bottom: 0.5em;\n",
       "  /* unfitted */\n",
       "  background-color: var(--sklearn-color-unfitted-level-0);\n",
       "}\n",
       "\n",
       "#sk-container-id-1 div.sk-estimator.fitted {\n",
       "  /* fitted */\n",
       "  background-color: var(--sklearn-color-fitted-level-0);\n",
       "}\n",
       "\n",
       "/* on hover */\n",
       "#sk-container-id-1 div.sk-estimator:hover {\n",
       "  /* unfitted */\n",
       "  background-color: var(--sklearn-color-unfitted-level-2);\n",
       "}\n",
       "\n",
       "#sk-container-id-1 div.sk-estimator.fitted:hover {\n",
       "  /* fitted */\n",
       "  background-color: var(--sklearn-color-fitted-level-2);\n",
       "}\n",
       "\n",
       "/* Specification for estimator info (e.g. \"i\" and \"?\") */\n",
       "\n",
       "/* Common style for \"i\" and \"?\" */\n",
       "\n",
       ".sk-estimator-doc-link,\n",
       "a:link.sk-estimator-doc-link,\n",
       "a:visited.sk-estimator-doc-link {\n",
       "  float: right;\n",
       "  font-size: smaller;\n",
       "  line-height: 1em;\n",
       "  font-family: monospace;\n",
       "  background-color: var(--sklearn-color-background);\n",
       "  border-radius: 1em;\n",
       "  height: 1em;\n",
       "  width: 1em;\n",
       "  text-decoration: none !important;\n",
       "  margin-left: 1ex;\n",
       "  /* unfitted */\n",
       "  border: var(--sklearn-color-unfitted-level-1) 1pt solid;\n",
       "  color: var(--sklearn-color-unfitted-level-1);\n",
       "}\n",
       "\n",
       ".sk-estimator-doc-link.fitted,\n",
       "a:link.sk-estimator-doc-link.fitted,\n",
       "a:visited.sk-estimator-doc-link.fitted {\n",
       "  /* fitted */\n",
       "  border: var(--sklearn-color-fitted-level-1) 1pt solid;\n",
       "  color: var(--sklearn-color-fitted-level-1);\n",
       "}\n",
       "\n",
       "/* On hover */\n",
       "div.sk-estimator:hover .sk-estimator-doc-link:hover,\n",
       ".sk-estimator-doc-link:hover,\n",
       "div.sk-label-container:hover .sk-estimator-doc-link:hover,\n",
       ".sk-estimator-doc-link:hover {\n",
       "  /* unfitted */\n",
       "  background-color: var(--sklearn-color-unfitted-level-3);\n",
       "  color: var(--sklearn-color-background);\n",
       "  text-decoration: none;\n",
       "}\n",
       "\n",
       "div.sk-estimator.fitted:hover .sk-estimator-doc-link.fitted:hover,\n",
       ".sk-estimator-doc-link.fitted:hover,\n",
       "div.sk-label-container:hover .sk-estimator-doc-link.fitted:hover,\n",
       ".sk-estimator-doc-link.fitted:hover {\n",
       "  /* fitted */\n",
       "  background-color: var(--sklearn-color-fitted-level-3);\n",
       "  color: var(--sklearn-color-background);\n",
       "  text-decoration: none;\n",
       "}\n",
       "\n",
       "/* Span, style for the box shown on hovering the info icon */\n",
       ".sk-estimator-doc-link span {\n",
       "  display: none;\n",
       "  z-index: 9999;\n",
       "  position: relative;\n",
       "  font-weight: normal;\n",
       "  right: .2ex;\n",
       "  padding: .5ex;\n",
       "  margin: .5ex;\n",
       "  width: min-content;\n",
       "  min-width: 20ex;\n",
       "  max-width: 50ex;\n",
       "  color: var(--sklearn-color-text);\n",
       "  box-shadow: 2pt 2pt 4pt #999;\n",
       "  /* unfitted */\n",
       "  background: var(--sklearn-color-unfitted-level-0);\n",
       "  border: .5pt solid var(--sklearn-color-unfitted-level-3);\n",
       "}\n",
       "\n",
       ".sk-estimator-doc-link.fitted span {\n",
       "  /* fitted */\n",
       "  background: var(--sklearn-color-fitted-level-0);\n",
       "  border: var(--sklearn-color-fitted-level-3);\n",
       "}\n",
       "\n",
       ".sk-estimator-doc-link:hover span {\n",
       "  display: block;\n",
       "}\n",
       "\n",
       "/* \"?\"-specific style due to the `<a>` HTML tag */\n",
       "\n",
       "#sk-container-id-1 a.estimator_doc_link {\n",
       "  float: right;\n",
       "  font-size: 1rem;\n",
       "  line-height: 1em;\n",
       "  font-family: monospace;\n",
       "  background-color: var(--sklearn-color-background);\n",
       "  border-radius: 1rem;\n",
       "  height: 1rem;\n",
       "  width: 1rem;\n",
       "  text-decoration: none;\n",
       "  /* unfitted */\n",
       "  color: var(--sklearn-color-unfitted-level-1);\n",
       "  border: var(--sklearn-color-unfitted-level-1) 1pt solid;\n",
       "}\n",
       "\n",
       "#sk-container-id-1 a.estimator_doc_link.fitted {\n",
       "  /* fitted */\n",
       "  border: var(--sklearn-color-fitted-level-1) 1pt solid;\n",
       "  color: var(--sklearn-color-fitted-level-1);\n",
       "}\n",
       "\n",
       "/* On hover */\n",
       "#sk-container-id-1 a.estimator_doc_link:hover {\n",
       "  /* unfitted */\n",
       "  background-color: var(--sklearn-color-unfitted-level-3);\n",
       "  color: var(--sklearn-color-background);\n",
       "  text-decoration: none;\n",
       "}\n",
       "\n",
       "#sk-container-id-1 a.estimator_doc_link.fitted:hover {\n",
       "  /* fitted */\n",
       "  background-color: var(--sklearn-color-fitted-level-3);\n",
       "}\n",
       "</style><div id=\"sk-container-id-1\" class=\"sk-top-container\"><div class=\"sk-text-repr-fallback\"><pre>LinearRegression()</pre><b>In a Jupyter environment, please rerun this cell to show the HTML representation or trust the notebook. <br />On GitHub, the HTML representation is unable to render, please try loading this page with nbviewer.org.</b></div><div class=\"sk-container\" hidden><div class=\"sk-item\"><div class=\"sk-estimator fitted sk-toggleable\"><input class=\"sk-toggleable__control sk-hidden--visually\" id=\"sk-estimator-id-1\" type=\"checkbox\" checked><label for=\"sk-estimator-id-1\" class=\"sk-toggleable__label fitted sk-toggleable__label-arrow fitted\">&nbsp;&nbsp;LinearRegression<a class=\"sk-estimator-doc-link fitted\" rel=\"noreferrer\" target=\"_blank\" href=\"https://scikit-learn.org/1.5/modules/generated/sklearn.linear_model.LinearRegression.html\">?<span>Documentation for LinearRegression</span></a><span class=\"sk-estimator-doc-link fitted\">i<span>Fitted</span></span></label><div class=\"sk-toggleable__content fitted\"><pre>LinearRegression()</pre></div> </div></div></div></div>"
      ],
      "text/plain": [
       "LinearRegression()"
      ]
     },
     "execution_count": 54,
     "metadata": {},
     "output_type": "execute_result"
    },
    {
     "name": "stdout",
     "output_type": "stream",
     "text": [
      "R-squared: 0.14420470659193696\n"
     ]
    }
   ],
   "source": [
    "from sklearn.linear_model import LinearRegression\n",
    "from sklearn.metrics import r2_score\n",
    "\n",
    "X = x.reshape(-1,1)\n",
    "\n",
    "# Create and fit the model\n",
    "model = LinearRegression()\n",
    "model.fit(X, y)\n",
    "\n",
    "# Make predictions\n",
    "y_pred = model.predict(X)\n",
    "\n",
    "# Calculate R-squared\n",
    "r2 = r2_score(y, y_pred)\n",
    "\n",
    "print(\"R-squared:\", r2)"
   ]
  },
  {
   "cell_type": "markdown",
   "metadata": {},
   "source": [
    "### <a id='toc1_1_9_'></a>[Distribution of H&Y Stage within each ISS stage - Figure 1D](#toc0_)"
   ]
  },
  {
   "cell_type": "code",
   "execution_count": 40,
   "metadata": {},
   "outputs": [
    {
     "data": {
      "text/plain": [
       "NHY  STAGE\n",
       "1    2         1\n",
       "     3        15\n",
       "     4         4\n",
       "2    2         8\n",
       "     3        41\n",
       "     4        21\n",
       "     5         1\n",
       "3    3         2\n",
       "     4         9\n",
       "     5         1\n",
       "4    4         1\n",
       "Name: count, dtype: int64"
      ]
     },
     "execution_count": 40,
     "metadata": {},
     "output_type": "execute_result"
    }
   ],
   "source": [
    "# Determine number each HY stage within each ISS stage\n",
    "\n",
    "data_spos.groupby(\"NHY\")[\"STAGE\"].value_counts().sort_index()"
   ]
  },
  {
   "cell_type": "code",
   "execution_count": null,
   "metadata": {},
   "outputs": [],
   "source": [
    "# Create lists of numbers participants in each NSD-ISS stage vs. HY stage\n",
    "hy1 = [0, 1, 15, 4, 0, 0]\n",
    "hy2 = [0, 8, 41, 21, 1, 0]\n",
    "hy3 = [0, 0, 2, 9, 1, 0]\n",
    "hy4 = [0, 0, 0, 1, 0, 0]\n",
    "\n",
    "hy1pct = (np.array(hy1) / sum(hy1) * 100).round(1)\n",
    "hy2pct = (np.array(hy2) / sum(hy2) * 100).round(1)\n",
    "hy3pct = (np.array(hy3) / sum(hy3) * 100).round(1)\n",
    "hy4pct = (np.array(hy4) / sum(hy4) * 100).round(1)"
   ]
  },
  {
   "cell_type": "code",
   "execution_count": null,
   "metadata": {},
   "outputs": [
    {
     "data": {
      "image/png": "[encoded data removed]",
      "text/plain": [
       "<Figure size 500x450 with 1 Axes>"
      ]
     },
     "metadata": {},
     "output_type": "display_data"
    }
   ],
   "source": [
    "# Build stacked bar plot for each HY stage with distribution of NSD-ISS stages - FIGURE 1D\n",
    "with plt.style.context(plot_settings):\n",
    "    fig, ax = plt.subplots(figsize=[5, 4.5])\n",
    "    colors = stage_colors\n",
    "    bottom = 0  # bottom of 1st bar\n",
    "    width = 0.75  # bar width\n",
    "    for i, col in enumerate(hy1pct):\n",
    "        ax.bar(1, hy1pct[i], width=width, bottom=bottom, color=colors[i])\n",
    "        bottom += hy1pct[i]  # add to previous\n",
    "    bottom = 0  # reset bottom\n",
    "    for i, col in enumerate(hy2pct):\n",
    "        ax.bar(2, hy2pct[i], width=width, bottom=bottom, color=colors[i])\n",
    "        bottom += hy2pct[i]\n",
    "    bottom = 0  # reset bottom\n",
    "    for i, col in enumerate(hy3pct):\n",
    "        ax.bar(3, hy3pct[i], width=width, bottom=bottom, color=colors[i])\n",
    "        bottom += hy3pct[i]\n",
    "    bottom = 0  # reset bottom\n",
    "    for i, col in enumerate(hy4pct):\n",
    "        ax.bar(4, hy4pct[i], width=width, bottom=bottom, color=colors[i])\n",
    "        bottom += hy4pct[i]\n",
    "\n",
    "    # Annotations\n",
    "    labels = [\"\", \"Stage 2\", \"Stage 3\", \"Stage 4\", \"Stage 5\", \"\"]\n",
    "    x_offset = 0.4\n",
    "    y_offset = 0\n",
    "\n",
    "    # Add numbers and text to first bar\n",
    "    for n, bar in enumerate(ax.patches[:6]):\n",
    "        if hy1pct[n] != 0:\n",
    "            ax.text(\n",
    "                bar.get_x() + bar.get_width() / 2,  # xpos\n",
    "                bar.get_height() + bar.get_y() - bar.get_height() / 2,  # ypos\n",
    "                \"{} ({:.0f}%)\".format(hy1[n], hy1pct[n]),  # text\n",
    "                ha=\"center\",\n",
    "                color=\"k\",\n",
    "                weight=\"bold\",\n",
    "                size=10,\n",
    "            )\n",
    "\n",
    "    # Add numbers and text to second bar\n",
    "    for n, bar in enumerate(ax.patches[6:12]):\n",
    "        if hy2pct[n] != 0:\n",
    "            ax.text(\n",
    "                bar.get_x() + bar.get_width() / 2,  # xpos\n",
    "                bar.get_height() + bar.get_y() - bar.get_height() / 2,  # ypos\n",
    "                \"{} ({:.0f}%)\".format(hy2[n], hy2pct[n]),  # text\n",
    "                ha=\"center\",\n",
    "                color=\"k\",\n",
    "                weight=\"bold\",\n",
    "                size=10,\n",
    "            )\n",
    "            # ax.text(\n",
    "            #   bar.get_x() - x_offset,\n",
    "            #   bar.get_height() + bar.get_y() - bar.get_height()/2,\n",
    "            #   s=labels[n], color='k', size=10)\n",
    "\n",
    "    # Add numbers and text to second bar\n",
    "    for n, bar in enumerate(ax.patches[12:18]):\n",
    "        if hy3pct[n] != 0:\n",
    "            ax.text(\n",
    "                bar.get_x() + bar.get_width() / 2,  # xpos\n",
    "                bar.get_height() + bar.get_y() - bar.get_height() / 2,  # ypos\n",
    "                \"{} ({:.0f}%)\".format(hy3[n], hy3pct[n]),  # text\n",
    "                ha=\"center\",\n",
    "                color=\"k\",\n",
    "                weight=\"bold\",\n",
    "                size=10,\n",
    "            )\n",
    "\n",
    "    # Add numbers and text to second bar\n",
    "    for n, bar in enumerate(ax.patches[18:24]):\n",
    "        if hy4pct[n] != 0:\n",
    "            ax.text(\n",
    "                bar.get_x() + bar.get_width() / 2,  # xpos\n",
    "                bar.get_height() + bar.get_y() - bar.get_height() / 2,  # ypos\n",
    "                \"{} ({:.0f}%)\".format(hy4[n], hy4pct[n]),  # text\n",
    "                ha=\"center\",\n",
    "                color=\"k\",\n",
    "                weight=\"bold\",\n",
    "                size=10,\n",
    "            )\n",
    "\n",
    "ax.set_xticks([1, 2, 3, 4])\n",
    "ax.set_xticklabels([\"HY1\", \"HY2\", \"HY3\", \"HY4\"], weight=\"bold\")\n",
    "ax.set_xlabel(\"Hoehn & Yahr stages\")\n",
    "ax.set_ylabel(\"%\")\n",
    "ax.tick_params(bottom=False, left=True, labelleft=True)\n",
    "ax.spines[\"top\"].set_color(\"none\")\n",
    "ax.spines[\"right\"].set_color(\"none\")\n",
    "ax.set_xlim([0.5, 4.5])\n",
    "fig.tight_layout(pad=1)\n",
    "\n",
    "plt.show()\n",
    "\n",
    "# Uncomment to save figure\n",
    "#fig.savefig(\"fig_1d_biofind_stages_by_hystage.svg\", dpi=300, transparent=True)"
   ]
  },
  {
   "cell_type": "code",
   "execution_count": null,
   "metadata": {},
   "outputs": [
    {
     "data": {
      "text/plain": [
       "mean     8.62\n",
       "median   7.80\n",
       "std      3.09\n",
       "Name: DUR_SYMP, dtype: float64"
      ]
     },
     "metadata": {},
     "output_type": "display_data"
    },
    {
     "data": {
      "text/plain": [
       "mean   68.18\n",
       "std     6.48\n",
       "Name: AGE, dtype: float64"
      ]
     },
     "metadata": {},
     "output_type": "display_data"
    },
    {
     "data": {
      "text/plain": [
       "GENDER\n",
       "2    61\n",
       "1    43\n",
       "Name: count, dtype: int64"
      ]
     },
     "metadata": {},
     "output_type": "display_data"
    },
    {
     "name": "stdout",
     "output_type": "stream",
     "text": [
      "% Males:58.65\n"
     ]
    }
   ],
   "source": [
    "# Descriptive statistics of each group\n",
    "data_spos[\"DUR_SYMP\"].apply([np.mean, np.median, np.std])\n",
    "data_spos[\"AGE\"].apply([np.mean, np.std])\n",
    "data_spos[\"GENDER\"].value_counts()\n",
    "print(\"% Males:\" + \"{:.2f}\".format(61 / (43 + 61) * 100))"
   ]
  },
  {
   "cell_type": "markdown",
   "metadata": {},
   "source": [
    "### <a id='toc1_1_10_'></a>[Distribution of PD vs PIGD motor phenotypes within each ISS stage - Figure 1E](#toc0_)"
   ]
  },
  {
   "cell_type": "code",
   "execution_count": 42,
   "metadata": {},
   "outputs": [
    {
     "data": {
      "text/plain": [
       "MOTORTYPE\n",
       "IND      9\n",
       "PIGD    25\n",
       "TD      61\n",
       "Name: STAGE, dtype: int64"
      ]
     },
     "execution_count": 42,
     "metadata": {},
     "output_type": "execute_result"
    }
   ],
   "source": [
    "# Numbers of PD vs. PIGD vs. indeterminate motor phenotypes\n",
    "data_spos.groupby(\"MOTORTYPE\")[\"STAGE\"].count()"
   ]
  },
  {
   "cell_type": "code",
   "execution_count": 44,
   "metadata": {},
   "outputs": [
    {
     "data": {
      "text/plain": [
       "STAGE\n",
       "2     5\n",
       "3    33\n",
       "4    22\n",
       "5     1\n",
       "Name: count, dtype: int64"
      ]
     },
     "execution_count": 44,
     "metadata": {},
     "output_type": "execute_result"
    },
    {
     "data": {
      "text/plain": [
       "STAGE\n",
       "2     2\n",
       "3    12\n",
       "4    10\n",
       "5     1\n",
       "Name: count, dtype: int64"
      ]
     },
     "execution_count": 44,
     "metadata": {},
     "output_type": "execute_result"
    }
   ],
   "source": [
    "# Count numbers of TD and PIGD within each stage\n",
    "data_spos[data_spos[\"MOTORTYPE\"] == \"TD\"][\"STAGE\"].value_counts().sort_index()\n",
    "data_spos[data_spos[\"MOTORTYPE\"] == \"PIGD\"][\"STAGE\"].value_counts().sort_index()"
   ]
  },
  {
   "cell_type": "code",
   "execution_count": null,
   "metadata": {},
   "outputs": [
    {
     "name": "stdout",
     "output_type": "stream",
     "text": [
      "[0, 71.42857142857143, 73.33333333333333, 68.75, 50.0, 0]\n",
      "[0, 28.57142857142857, 26.666666666666668, 31.25, 50.0, 0]\n"
     ]
    }
   ],
   "source": [
    "# Calculate fraction of each motor phenotype within each ISS stage\n",
    "td = np.array([0, 5, 33, 22, 1, 0])\n",
    "pigd = np.array([0, 2, 12, 10, 1, 0])\n",
    "\n",
    "td_pct = []\n",
    "pigd_pct = []\n",
    "\n",
    "for _, n in enumerate(zip(td, pigd)):\n",
    "    m1 = n[0]\n",
    "    m2 = n[1]\n",
    "    total = m1 + m2\n",
    "    if total != 0:\n",
    "        td_pct.append(m1 / total * 100)\n",
    "        pigd_pct.append(m2 / total * 100)\n",
    "    else:\n",
    "        td_pct.append(0)\n",
    "        pigd_pct.append(0)\n",
    "\n",
    "print(td_pct)\n",
    "print(pigd_pct)"
   ]
  },
  {
   "cell_type": "code",
   "execution_count": null,
   "metadata": {},
   "outputs": [
    {
     "data": {
      "image/png": "[encoded data removed]",
      "text/plain": [
       "<Figure size 500x450 with 1 Axes>"
      ]
     },
     "metadata": {},
     "output_type": "display_data"
    }
   ],
   "source": [
    "# Build plot of motor phenotypes across stages - FIGURE 1E\n",
    "with plt.style.context(plot_settings):\n",
    "    fig, ax = plt.subplots(figsize=(5, 4.5))\n",
    "    colors = [\"#D2D2D2\", \"#9A9A9A\"]\n",
    "    bottom = 0\n",
    "    width = 0.75\n",
    "\n",
    "    for i in range(0, 6):\n",
    "        ax.bar(\n",
    "            i + 1,\n",
    "            td_pct[i],\n",
    "            width=width,\n",
    "            bottom=bottom,\n",
    "            color=colors[0],\n",
    "            edgecolor=stage_colors[i],\n",
    "            linewidth=2.5,\n",
    "        )\n",
    "        ax.bar(\n",
    "            i + 1,\n",
    "            pigd_pct[i],\n",
    "            width=width,\n",
    "            bottom=td_pct[i],\n",
    "            color=colors[1],\n",
    "            edgecolor=stage_colors[i],\n",
    "            linewidth=2.5,\n",
    "        )\n",
    "\n",
    "    # Annotate\n",
    "    y_offset = 0\n",
    "    # x_offset = 0.2\n",
    "    for n, bar in enumerate(ax.patches[0:12:2]):\n",
    "        if td_pct[n] != 0:\n",
    "            ax.text(\n",
    "                bar.get_x() + bar.get_width() / 2,  # xpos\n",
    "                bar.get_height()\n",
    "                + bar.get_y()\n",
    "                - bar.get_height() / 2\n",
    "                + y_offset,  # ypos\n",
    "                \"{} ({:.0f}%)\".format(td[n], td_pct[n]),  # text\n",
    "                ha=\"center\",\n",
    "                color=\"k\",\n",
    "                weight=\"bold\",\n",
    "                size=10,\n",
    "            )\n",
    "    for n, bar in enumerate(ax.patches[1:12:2]):\n",
    "        if pigd_pct[n] != 0:\n",
    "            ax.text(\n",
    "                bar.get_x() + bar.get_width() / 2,  # xpos\n",
    "                bar.get_height()\n",
    "                + bar.get_y()\n",
    "                - bar.get_height() / 2\n",
    "                + y_offset,  # ypos\n",
    "                \"{} ({:.0f}%)\".format(pigd[n], pigd_pct[n]),  # text\n",
    "                ha=\"center\",\n",
    "                color=\"k\",\n",
    "                weight=\"bold\",\n",
    "                size=10,\n",
    "            )\n",
    "\n",
    "    ax.set_xticks([2, 3, 4, 5])\n",
    "    ax.set_xticklabels([\"2\", \"3\", \"4\", \"5\"], weight=\"bold\")\n",
    "    ax.set_ylabel(\"%\")\n",
    "    ax.tick_params(axis=\"x\", length=0)\n",
    "    ax.spines[\"top\"].set_color(\"none\")\n",
    "    ax.spines[\"right\"].set_color(\"none\")\n",
    "    ax.set_xlim([1.5, 5.5])\n",
    "    ax.set_ylim(0, 100)\n",
    "    ax.set_xlabel(\"Stage\")\n",
    "\n",
    "    fig.tight_layout(pad=1)\n",
    "\n",
    "plt.show();\n",
    "\n",
    "# Uncomment to save figure \n",
    "# fig.savefig(\"figure_1e_biofind_td_pigd_w_stages.svg\", dpi=300, transparent=True)"
   ]
  },
  {
   "cell_type": "code",
   "execution_count": null,
   "metadata": {},
   "outputs": [
    {
     "name": "stdout",
     "output_type": "stream",
     "text": [
      "[26. 34. 44. 64.]\n"
     ]
    }
   ],
   "source": [
    "# Separate data by quartiles of UPDRS Part III OFF score\n",
    "p3quarts = np.quantile(\n",
    "    data_spos[\"P3OFF\"], [0.25, 0.5, 0.75, 1.0], method=\"closest_observation\"\n",
    ")\n",
    "print(p3quarts)"
   ]
  },
  {
   "cell_type": "code",
   "execution_count": null,
   "metadata": {},
   "outputs": [
    {
     "data": {
      "text/plain": [
       "STAGE\n",
       "2     4\n",
       "3    16\n",
       "4     7\n",
       "Name: STAGE, dtype: int64"
      ]
     },
     "metadata": {},
     "output_type": "display_data"
    },
    {
     "data": {
      "text/plain": [
       "STAGE\n",
       "2     5\n",
       "3    15\n",
       "4     6\n",
       "Name: STAGE, dtype: int64"
      ]
     },
     "metadata": {},
     "output_type": "display_data"
    },
    {
     "data": {
      "text/plain": [
       "STAGE\n",
       "3    14\n",
       "4    11\n",
       "5     1\n",
       "Name: STAGE, dtype: int64"
      ]
     },
     "metadata": {},
     "output_type": "display_data"
    },
    {
     "data": {
      "text/plain": [
       "STAGE\n",
       "3    13\n",
       "4    11\n",
       "5     1\n",
       "Name: STAGE, dtype: int64"
      ]
     },
     "metadata": {},
     "output_type": "display_data"
    }
   ],
   "source": [
    "# Count numbers of each ISS stage within each Part 3 quartile\n",
    "data_spos[data_spos[\"P3OFF\"] <= p3quarts[0]].groupby(\"STAGE\")[\"STAGE\"].count()\n",
    "data_spos[(data_spos[\"P3OFF\"] > p3quarts[0]) & (data_spos[\"P3OFF\"] <= p3quarts[1])].groupby(\"STAGE\")[\"STAGE\"].count()\n",
    "data_spos[(data_spos[\"P3OFF\"] > p3quarts[1]) & (data_spos[\"P3OFF\"] <= p3quarts[2])].groupby(\"STAGE\")[\"STAGE\"].count()\n",
    "data_spos[(data_spos[\"P3OFF\"] > p3quarts[2]) & (data_spos[\"P3OFF\"] <= p3quarts[3])].groupby(\"STAGE\")[\"STAGE\"].count()"
   ]
  },
  {
   "cell_type": "code",
   "execution_count": null,
   "metadata": {},
   "outputs": [],
   "source": [
    "# UPDRS Part 3 quartiles\n",
    "p1 = [0, 4, 16, 7, 0, 0]\n",
    "p2 = [0, 5, 15, 6, 0, 0]\n",
    "p3 = [0, 0, 14, 11, 1, 0]\n",
    "p4 = [0, 0, 13, 11, 1, 0]\n",
    "\n",
    "p1pct = np.array(p1) / sum(p1) * 100\n",
    "p2pct = np.array(p2) / sum(p2) * 100\n",
    "p3pct = np.array(p3) / sum(p3) * 100\n",
    "p4pct = np.array(p4) / sum(p4) * 100"
   ]
  },
  {
   "cell_type": "code",
   "execution_count": null,
   "metadata": {},
   "outputs": [
    {
     "data": {
      "image/png": "[encoded data removed]",
      "text/plain": [
       "<Figure size 500x450 with 1 Axes>"
      ]
     },
     "metadata": {},
     "output_type": "display_data"
    }
   ],
   "source": [
    "# Build stacked bar plot for MDS-UPDRS Part 3 quartiles\n",
    "with plt.style.context(plot_settings):\n",
    "\n",
    "    fig, ax = plt.subplots(figsize=[5, 4.5])\n",
    "\n",
    "    colors = stage_colors\n",
    "    bottom = 0  # bottom of 1st bar\n",
    "    width = 0.75  # bar width\n",
    "\n",
    "    for i, col in enumerate(hy1):\n",
    "        ax.bar(1, p1pct[i], width=width, bottom=bottom, color=colors[i])\n",
    "        bottom += p1pct[i]  # add to previous\n",
    "    bottom = 0  # reset bottom\n",
    "    for i, col in enumerate(hy2):\n",
    "        ax.bar(2, p2pct[i], width=width, bottom=bottom, color=colors[i])\n",
    "        bottom += p2pct[i]\n",
    "    bottom = 0  # reset bottom\n",
    "    for i, col in enumerate(hy3):\n",
    "        ax.bar(3, p3pct[i], width=width, bottom=bottom, color=colors[i])\n",
    "        bottom += p3pct[i]\n",
    "    bottom = 0  # reset bottom\n",
    "    for i, col in enumerate(hy4):\n",
    "        ax.bar(4, p4pct[i], width=width, bottom=bottom, color=colors[i])\n",
    "        bottom += p4pct[i]\n",
    "    # end context\n",
    "\n",
    "    # Annotations\n",
    "    labels = [\"\", \"Stage 2\", \"Stage 3\", \"Stage 4\", \"Stage 5\", \"\"]\n",
    "    x_offset = 0.4\n",
    "    y_offset = 0\n",
    "\n",
    "    # Add numbers and text to Q1 bar\n",
    "    for n, bar in enumerate(ax.patches[:6]):\n",
    "        if p1[n] != 0:\n",
    "            ax.text(\n",
    "                bar.get_x() + bar.get_width() / 2,  # xpos\n",
    "                bar.get_height() + bar.get_y() - bar.get_height() / 2,  # ypos\n",
    "                \"{} ({:.0f}%)\".format(q1[n], p1pct[n]),\n",
    "                ha=\"center\",\n",
    "                color=\"k\",\n",
    "                weight=\"bold\",\n",
    "                size=10,\n",
    "            )\n",
    "        # ax.text(\n",
    "        #     bar.get_x() - x_offset,\n",
    "        #     bar.get_height() + bar.get_y() - bar.get_height()/2,\n",
    "        #     s=labels[n], color='k', size=10\n",
    "        #     )\n",
    "\n",
    "    # Add numbers and text to Q2 bar\n",
    "    for n, bar in enumerate(ax.patches[6:12]):\n",
    "        if p2[n] != 0:\n",
    "            ax.text(\n",
    "                bar.get_x() + bar.get_width() / 2,  # xpos\n",
    "                bar.get_height() + bar.get_y() - bar.get_height() / 2,  # ypos\n",
    "                \"{} ({:.0f}%)\".format(q2[n], p2pct[n]),  # text\n",
    "                ha=\"center\",\n",
    "                color=\"k\",\n",
    "                weight=\"bold\",\n",
    "                size=10,\n",
    "            )\n",
    "\n",
    "    # Add numbers and text to second bar\n",
    "    for n, bar in enumerate(ax.patches[12:18]):\n",
    "        if p3[n] != 0:\n",
    "            ax.text(\n",
    "                bar.get_x() + bar.get_width() / 2,  # xpos\n",
    "                bar.get_height() + bar.get_y() - bar.get_height() / 2,  # ypos\n",
    "                \"{} ({:.0f}%)\".format(q3[n], p3pct[n]),  # text\n",
    "                ha=\"center\",\n",
    "                color=\"k\",\n",
    "                weight=\"bold\",\n",
    "                size=10,\n",
    "            )\n",
    "\n",
    "    # Add numbers and text to second bar\n",
    "    for n, bar in enumerate(ax.patches[18:24]):\n",
    "        if p4[n] != 0:\n",
    "            ax.text(\n",
    "                bar.get_x() + bar.get_width() / 2,  # xpos\n",
    "                bar.get_height() + bar.get_y() - bar.get_height() / 2,  # ypos\n",
    "                \"{} ({:.0f}%)\".format(q4[n], p4pct[n]),  # text\n",
    "                ha=\"center\",\n",
    "                color=\"k\",\n",
    "                weight=\"bold\",\n",
    "                size=10,\n",
    "            )\n",
    "\n",
    "# order = stage_nums + stage_nums_spos\n",
    "# stacks = 2\n",
    "# len(ax.patches) // len(order)\n",
    "\n",
    "# for a,b in zip(ax.patches[:6],ax.patches[6:]):\n",
    "#     _,h0 = a.get_xy()\n",
    "#     _,h1 = b.get_xy()\n",
    "#     ax.plot([1 + width / 2, 2 - width / 2], [h0, h1], color='C7', ls='dotted', zorder=1)\n",
    "\n",
    "plt.axvline(x=1.5, linestyle=\"--\", color=\"gray\")\n",
    "plt.axvline(x=2.5, linestyle=\"--\", color=\"gray\")\n",
    "plt.axvline(x=3.5, linestyle=\"--\", color=\"gray\")\n",
    "# plt.text(x=1.5-0.2, y=102, s=f'{quarts[0]:.1f}' + ' years')\n",
    "# plt.text(x=2.5-0.2, y=102, s=f'{quarts[1]:.1f}' + ' years')\n",
    "# plt.text(x=3.5-0.2, y=102, s=f'{quarts[2]:.1f}' + ' years')\n",
    "\n",
    "ax.set_xticks([1, 2, 3, 4])\n",
    "ax.set_xticklabels([\"Q1\", \"Q2\", \"Q3\", \"Q4\"], weight=\"bold\")\n",
    "ax.set_xlabel(\"UPDRS Part 3 OFF (quartiles)\")\n",
    "ax.set_ylabel(\"%\")\n",
    "ax.tick_params(bottom=False, left=True, labelleft=True)\n",
    "ax.spines[\"top\"].set_color(\"none\")\n",
    "ax.spines[\"right\"].set_color(\"none\")\n",
    "ax.set_xlim([0.5, 4.5])\n",
    "fig.tight_layout(pad=1)\n",
    "\n",
    "plt.show()\n",
    "\n",
    "# Uncomment to save figure \n",
    "# fig.savefig(\"fig_xx_biofind_stages_by_updrs_part3.svg\", dpi=300, transparent=True)"
   ]
  },
  {
   "cell_type": "markdown",
   "metadata": {},
   "source": [
    "### <a id='toc1_1_11_'></a>[MOCA vs. MDS-UPRDS Part I Question 1 - Figure 1F](#toc0_)"
   ]
  },
  {
   "cell_type": "code",
   "execution_count": null,
   "metadata": {},
   "outputs": [],
   "source": [
    "# NP1COG vs. MCATOT\n",
    "x = data_spos[\"NP1COG\"].values\n",
    "y = data_spos[\"MCATOT\"].values\n",
    "stages = spos[\"STAGE\"].values\n",
    "cmap = [dict_stage_colors.get(n) for n in stages]"
   ]
  },
  {
   "cell_type": "code",
   "execution_count": null,
   "metadata": {},
   "outputs": [
    {
     "name": "stderr",
     "output_type": "stream",
     "text": [
      "/opt/miniconda3/lib/python3.12/site-packages/seaborn/_oldcore.py:1119: FutureWarning: use_inf_as_na option is deprecated and will be removed in a future version. Convert inf values to NaN before operating instead.\n",
      "  with pd.option_context('mode.use_inf_as_na', True):\n",
      "/opt/miniconda3/lib/python3.12/site-packages/seaborn/_oldcore.py:1119: FutureWarning: use_inf_as_na option is deprecated and will be removed in a future version. Convert inf values to NaN before operating instead.\n",
      "  with pd.option_context('mode.use_inf_as_na', True):\n"
     ]
    },
    {
     "data": {
      "image/png": "[encoded data removed]",
      "text/plain": [
       "<Figure size 550x500 with 1 Axes>"
      ]
     },
     "metadata": {},
     "output_type": "display_data"
    }
   ],
   "source": [
    "# MOCA vs. Q1.1 - FIGURE 1F\n",
    "with plt.style.context(plot_settings):\n",
    "    fig, ax = plt.subplots(figsize=(5.5, 5))\n",
    "    sns.stripplot(\n",
    "        ax=ax,\n",
    "        x=\"NP1COG\",\n",
    "        y=\"MCATOT\",\n",
    "        data=spos,\n",
    "        marker=\"o\",\n",
    "        edgecolor=\"#9A9A9A\",\n",
    "        linewidth=0.5,\n",
    "        hue=\"STAGE\",\n",
    "        jitter=0.25,\n",
    "        dodge=True,\n",
    "        # hue_order=[2,3,4,5],\n",
    "        alpha=1,\n",
    "        s=8,\n",
    "        palette=stage_colors[1:5],\n",
    "        zorder=10,\n",
    "    )\n",
    "\n",
    "    # ax.scatter(x,y,color=cmap, linewidth=0.5, edgecolors='#9A9A9A', marker='o', s=80, zorder=10)\n",
    "    plt.axhline(y=25, linestyle=\"--\", color=\"gray\", linewidth=1.25)\n",
    "\n",
    "    ax.set_ylabel(\"MoCA Score\")\n",
    "    ax.set_xlabel(\"MDS-UPDRS Part I Question 1.1\")\n",
    "    ax.set_xlim(-0.5, 3.5)\n",
    "\n",
    "ax.yaxis.set_minor_locator(matplotlib.ticker.AutoMinorLocator(2))\n",
    "\n",
    "\n",
    "# plt.legend()\n",
    "plt.show()\n",
    "\n",
    "# Uncomment to save figure\n",
    "# fig.savefig(\"figure_1F_q1_v_moca_stages.svg\", dpi=300, transparent=True)\n"
   ]
  },
  {
   "cell_type": "markdown",
   "metadata": {},
   "source": [
    "### <a id='toc1_1_12_'></a>[Stage distributions according to quartiles of disease duration](#toc0_)"
   ]
  },
  {
   "cell_type": "code",
   "execution_count": null,
   "metadata": {},
   "outputs": [
    {
     "data": {
      "text/plain": [
       "STAGE\n",
       "2     3\n",
       "3    19\n",
       "4     5\n",
       "Name: STAGE, dtype: int64"
      ]
     },
     "metadata": {},
     "output_type": "display_data"
    },
    {
     "data": {
      "text/plain": [
       "STAGE\n",
       "2     3\n",
       "3    13\n",
       "4     9\n",
       "Name: STAGE, dtype: int64"
      ]
     },
     "metadata": {},
     "output_type": "display_data"
    },
    {
     "data": {
      "text/plain": [
       "STAGE\n",
       "2     3\n",
       "3    11\n",
       "4    11\n",
       "5     1\n",
       "Name: STAGE, dtype: int64"
      ]
     },
     "metadata": {},
     "output_type": "display_data"
    },
    {
     "data": {
      "text/plain": [
       "STAGE\n",
       "3    15\n",
       "4    10\n",
       "5     1\n",
       "Name: STAGE, dtype: int64"
      ]
     },
     "metadata": {},
     "output_type": "display_data"
    }
   ],
   "source": [
    "# Split into quartiles based on disease duration (from diagnosis)\n",
    "quartiless = np.quantile(\n",
    "    data_spos[\"DUR_DIAG\"], [0.25, 0.5, 0.75, 1], method=\"closest_observation\"\n",
    ")\n",
    "data_spos[data_spos[\"DUR_DIAG\"] <= quarts[0]].groupby(\"STAGE\")[\"STAGE\"].count()\n",
    "data_spos[\n",
    "    (data_spos[\"DUR_DIAG\"] > quarts[0]) & (data_spos[\"DUR_DIAG\"] <= quarts[1])\n",
    "].groupby(\"STAGE\")[\"STAGE\"].count()\n",
    "data_spos[\n",
    "    (data_spos[\"DUR_DIAG\"] > quarts[1]) & (data_spos[\"DUR_DIAG\"] <= quarts[2])\n",
    "].groupby(\"STAGE\")[\"STAGE\"].count()\n",
    "data_spos[\n",
    "    (data_spos[\"DUR_DIAG\"] > quarts[2]) & (data_spos[\"DUR_DIAG\"] <= quarts[3])\n",
    "].groupby(\"STAGE\")[\"STAGE\"].count()"
   ]
  },
  {
   "cell_type": "code",
   "execution_count": null,
   "metadata": {},
   "outputs": [],
   "source": [
    "# Quartiles of disease duration vs. stages\n",
    "q1 = [0, 3, 19, 5, 0, 0]\n",
    "q2 = [0, 3, 13, 9, 0, 0]\n",
    "q3 = [0, 3, 11, 11, 1, 0]\n",
    "q4 = [0, 0, 15, 10, 1, 0]\n",
    "\n",
    "q1pct = np.array(q1) / sum(q1) * 100\n",
    "q2pct = np.array(q2) / sum(q2) * 100\n",
    "q3pct = np.array(q3) / sum(q3) * 100\n",
    "q4pct = np.array(q4) / sum(q4) * 100\n",
    "\n",
    "dur_diag_median = data_spos[\"DUR_DIAG\"].median()"
   ]
  },
  {
   "cell_type": "code",
   "execution_count": null,
   "metadata": {},
   "outputs": [
    {
     "data": {
      "image/png": "[encoded data removed]",
      "text/plain": [
       "<Figure size 500x450 with 1 Axes>"
      ]
     },
     "metadata": {},
     "output_type": "display_data"
    }
   ],
   "source": [
    "# Build stacked bar plot for quartiles of disease duration\n",
    "with plt.style.context(plot_settings):\n",
    "\n",
    "    fig, ax = plt.subplots(figsize=[5, 4.5])\n",
    "\n",
    "    colors = stage_colors\n",
    "    bottom = 0  # bottom of 1st bar\n",
    "    width = 0.75  # bar width\n",
    "\n",
    "    for i, col in enumerate(hy1):\n",
    "        ax.bar(1, q1pct[i], width=width, bottom=bottom, color=colors[i])\n",
    "        bottom += q1pct[i]  # add to previous\n",
    "    bottom = 0  # reset bottom\n",
    "    for i, col in enumerate(hy2):\n",
    "        ax.bar(2, q2pct[i], width=width, bottom=bottom, color=colors[i])\n",
    "        bottom += q2pct[i]\n",
    "    bottom = 0  # reset bottom\n",
    "    for i, col in enumerate(hy3):\n",
    "        ax.bar(3, q3pct[i], width=width, bottom=bottom, color=colors[i])\n",
    "        bottom += q3pct[i]\n",
    "    bottom = 0  # reset bottom\n",
    "    for i, col in enumerate(hy4):\n",
    "        ax.bar(4, q4pct[i], width=width, bottom=bottom, color=colors[i])\n",
    "        bottom += q4pct[i]\n",
    "    # end context\n",
    "\n",
    "    # Annotations\n",
    "    labels = [\"\", \"Stage 2\", \"Stage 3\", \"Stage 4\", \"Stage 5\", \"\"]\n",
    "    x_offset = 0.4\n",
    "    y_offset = 0\n",
    "\n",
    "    # Add numbers and text to Q1 bar\n",
    "    for n, bar in enumerate(ax.patches[:6]):\n",
    "        if q1[n] != 0:\n",
    "            ax.text(\n",
    "                bar.get_x() + bar.get_width() / 2,  # xpos\n",
    "                bar.get_height() + bar.get_y() - bar.get_height() / 2,  # ypos\n",
    "                \"{} ({:.0f}%)\".format(q1[n], q1pct[n]),\n",
    "                ha=\"center\",\n",
    "                color=\"k\",\n",
    "                weight=\"bold\",\n",
    "                size=10,\n",
    "            )\n",
    "        # ax.text(\n",
    "        #     bar.get_x() - x_offset,\n",
    "        #     bar.get_height() + bar.get_y() - bar.get_height()/2,\n",
    "        #     s=labels[n], color='k', size=10\n",
    "        #     )\n",
    "\n",
    "    # Add numbers and text to Q2 bar\n",
    "    for n, bar in enumerate(ax.patches[6:12]):\n",
    "        if q2[n] != 0:\n",
    "            ax.text(\n",
    "                bar.get_x() + bar.get_width() / 2,  # xpos\n",
    "                bar.get_height() + bar.get_y() - bar.get_height() / 2,  # ypos\n",
    "                \"{} ({:.0f}%)\".format(q2[n], q2pct[n]),  # text\n",
    "                ha=\"center\",\n",
    "                color=\"k\",\n",
    "                weight=\"bold\",\n",
    "                size=10,\n",
    "            )\n",
    "\n",
    "    # Add numbers and text to second bar\n",
    "    for n, bar in enumerate(ax.patches[12:18]):\n",
    "        if q3[n] != 0:\n",
    "            ax.text(\n",
    "                bar.get_x() + bar.get_width() / 2,  # xpos\n",
    "                bar.get_height() + bar.get_y() - bar.get_height() / 2,  # ypos\n",
    "                \"{} ({:.0f}%)\".format(q3[n], q3pct[n]),  # text\n",
    "                ha=\"center\",\n",
    "                color=\"k\",\n",
    "                weight=\"bold\",\n",
    "                size=10,\n",
    "            )\n",
    "\n",
    "    # Add numbers and text to second bar\n",
    "    for n, bar in enumerate(ax.patches[18:24]):\n",
    "        if q4[n] != 0:\n",
    "            ax.text(\n",
    "                bar.get_x() + bar.get_width() / 2,  # xpos\n",
    "                bar.get_height() + bar.get_y() - bar.get_height() / 2,  # ypos\n",
    "                \"{} ({:.0f}%)\".format(q4[n], q4pct[n]),  # text\n",
    "                ha=\"center\",\n",
    "                color=\"k\",\n",
    "                weight=\"bold\",\n",
    "                size=10,\n",
    "            )\n",
    "\n",
    "# order = stage_nums + stage_nums_spos\n",
    "# stacks = 2\n",
    "# len(ax.patches) // len(order)\n",
    "\n",
    "# for a,b in zip(ax.patches[:6],ax.patches[6:]):\n",
    "#     _,h0 = a.get_xy()\n",
    "#     _,h1 = b.get_xy()\n",
    "#     ax.plot([1 + width / 2, 2 - width / 2], [h0, h1], color='C7', ls='dotted', zorder=1)\n",
    "\n",
    "plt.axvline(x=1.5, linestyle=\"--\", color=\"gray\")\n",
    "plt.axvline(x=2.5, linestyle=\"--\", color=\"gray\")\n",
    "plt.axvline(x=3.5, linestyle=\"--\", color=\"gray\")\n",
    "# plt.text(x=1.5-0.2, y=102, s=f'{quarts[0]:.1f}' + ' years')\n",
    "# plt.text(x=2.5-0.2, y=102, s=f'{quarts[1]:.1f}' + ' years')\n",
    "# plt.text(x=3.5-0.2, y=102, s=f'{quarts[2]:.1f}' + ' years')\n",
    "\n",
    "ax.set_xticks([1, 2, 3, 4])\n",
    "ax.set_xticklabels([\"Q1\", \"Q2\", \"Q3\", \"Q4\"], weight=\"bold\")\n",
    "ax.set_xlabel(\"Disease duration (quartiles)\")\n",
    "ax.set_ylabel(\"%\")\n",
    "ax.tick_params(bottom=False, left=True, labelleft=True)\n",
    "ax.spines[\"top\"].set_color(\"none\")\n",
    "ax.spines[\"right\"].set_color(\"none\")\n",
    "ax.set_xlim([0.5, 4.5])\n",
    "fig.tight_layout(pad=1)\n",
    "\n",
    "plt.show()\n",
    "\n",
    "# Uncomment to save figure \n",
    "# fig.savefig(\"fig_1c_biofind_stages_by_duration_quartiles.svg\", dpi=300, transparent=True)"
   ]
  },
  {
   "cell_type": "markdown",
   "metadata": {},
   "source": [
    "### <a id='toc1_1_13_'></a>[Distribution of stages according to disease duration >median (longer disease duration) vs < median (shorter disease duration)](#toc0_)"
   ]
  },
  {
   "cell_type": "code",
   "execution_count": null,
   "metadata": {},
   "outputs": [
    {
     "name": "stdout",
     "output_type": "stream",
     "text": [
      "6.1287671232876715\n"
     ]
    },
    {
     "data": {
      "text/plain": [
       "STAGE\n",
       "2     6\n",
       "3    32\n",
       "4    14\n",
       "Name: count, dtype: int64"
      ]
     },
     "metadata": {},
     "output_type": "display_data"
    },
    {
     "data": {
      "text/plain": [
       "STAGE\n",
       "2     3\n",
       "3    26\n",
       "4    21\n",
       "5     2\n",
       "Name: count, dtype: int64"
      ]
     },
     "metadata": {},
     "output_type": "display_data"
    }
   ],
   "source": [
    "# Determine median disease duration and group according >median vs. <median\n",
    "mdn = spos[\"DUR_DIAG\"].median()\n",
    "print(mdn)\n",
    "\n",
    "# Divide S+ subjects according to whether disease onset < median\n",
    "spos[spos[\"DUR_DIAG\"] <= mdn][\"STAGE\"].value_counts().sort_index()\n",
    "spos[spos[\"DUR_DIAG\"] > mdn][\"STAGE\"].value_counts().sort_index()"
   ]
  },
  {
   "cell_type": "code",
   "execution_count": null,
   "metadata": {},
   "outputs": [],
   "source": [
    "# Early <median vs. late >median duration disease\n",
    "early = [0, 6, 32, 14, 0, 0]\n",
    "late = [0, 3, 26, 21, 2, 0]\n",
    "\n",
    "early_pct = np.array(early) / np.sum(early) * 100\n",
    "late_pct = np.array(late) / np.sum(late) * 100"
   ]
  },
  {
   "cell_type": "code",
   "execution_count": null,
   "metadata": {},
   "outputs": [
    {
     "data": {
      "image/png": "[encoded data removed]",
      "text/plain": [
       "<Figure size 500x450 with 1 Axes>"
      ]
     },
     "metadata": {},
     "output_type": "display_data"
    }
   ],
   "source": [
    "# Plot of stage distributions for disease duration > median vs. < median\n",
    "with plt.style.context(plot_settings):\n",
    "    # Build stacked bar plot for stage fractions\n",
    "    fig, ax = plt.subplots(figsize=(5, 4.5))\n",
    "    colors = stage_colors\n",
    "    bottom = 0\n",
    "    width = 0.4\n",
    "    for i, col in enumerate(early):\n",
    "        ax.bar(1, early_pct[i], width=width, bottom=bottom, color=colors[i])\n",
    "        bottom += early_pct[i]\n",
    "    bottom = 0\n",
    "    for i, col in enumerate(stage_nums_spos):\n",
    "        ax.bar(2, late_pct[i], width=width, bottom=bottom, color=colors[i])\n",
    "        bottom += late_pct[i]\n",
    "\n",
    "    # Annotate\n",
    "    labels = [\"Stage 1\", \"Stage 2\", \"Stage 3\", \"Stage 4\", \"Stage 5\", \"Stage 6\"]\n",
    "    y_offset = -1.5\n",
    "    x_offset = 0.2\n",
    "    for n, bar in enumerate(ax.patches[:6]):\n",
    "        if early_pct[n] != 0:\n",
    "            ax.text(\n",
    "                bar.get_x() + bar.get_width() / 2,  # xpos\n",
    "                bar.get_height()\n",
    "                + bar.get_y()\n",
    "                - bar.get_height() / 2\n",
    "                + y_offset,  # ypos\n",
    "                \"{} ({:.0f}%)\".format(early[n], early_pct[n]),  # text\n",
    "                ha=\"center\",\n",
    "                color=\"k\",\n",
    "                weight=\"bold\",\n",
    "                size=10,\n",
    "            )\n",
    "            ax.text(\n",
    "                bar.get_x() - x_offset,\n",
    "                bar.get_height() + bar.get_y() - bar.get_height() / 2,\n",
    "                s=labels[n],\n",
    "                color=\"k\",\n",
    "                size=10,\n",
    "            )\n",
    "    for n, bar in enumerate(ax.patches[6:]):\n",
    "        if late_pct[n] != 0:\n",
    "            ax.text(\n",
    "                bar.get_x() + bar.get_width() / 2,  # xpos\n",
    "                bar.get_height()\n",
    "                + bar.get_y()\n",
    "                - bar.get_height() / 2\n",
    "                + y_offset,  # ypos\n",
    "                \"{} ({:.0f}%)\".format(late[n], late_pct[n]),  # text\n",
    "                ha=\"center\",\n",
    "                color=\"k\",\n",
    "                weight=\"bold\",\n",
    "                size=10,\n",
    "            )\n",
    "            ax.text(\n",
    "                bar.get_x() - x_offset,\n",
    "                bar.get_height() + bar.get_y() - bar.get_height() / 2,\n",
    "                s=labels[n],\n",
    "                color=\"k\",\n",
    "                size=10,\n",
    "            )\n",
    "\n",
    "    ax.set_xticks([1, 2])\n",
    "    ax.set_xticklabels([r\"$\\leq$ 6.1 years\", \"> 6.1 years\"], weight=\"bold\")\n",
    "    ax.set_ylabel(\"Time since diagnosis\")\n",
    "    ax.set_ylabel(\"%\")\n",
    "    ax.tick_params(bottom=False, left=True, labelleft=True)\n",
    "    ax.spines[\"top\"].set_color(\"none\")\n",
    "    ax.spines[\"right\"].set_color(\"none\")\n",
    "    ax.set_xlim([0.5, 2.5])\n",
    "    fig.tight_layout(pad=1)\n",
    "\n",
    "plt.show()\n",
    "\n",
    "# Uncomment to save figure \n",
    "# fig.savefig(\"biofind_stages_early_vs_late_disease.svg\", dpi=300, transparent=True)"
   ]
  }
 ],
 "metadata": {
  "kernelspec": {
   "display_name": "base",
   "language": "python",
   "name": "python3"
  },
  "language_info": {
   "codemirror_mode": {
    "name": "ipython",
    "version": 3
   },
   "file_extension": ".py",
   "mimetype": "text/x-python",
   "name": "python",
   "nbconvert_exporter": "python",
   "pygments_lexer": "ipython3",
   "version": "3.12.2"
  }
 },
 "nbformat": 4,
 "nbformat_minor": 2
}
