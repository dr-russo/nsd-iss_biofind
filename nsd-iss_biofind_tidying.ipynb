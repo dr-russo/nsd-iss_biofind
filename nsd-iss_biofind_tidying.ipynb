{
 "cells": [
  {
   "cell_type": "markdown",
   "metadata": {},
   "source": [
    "\n",
    "# <a id='toc1_'></a>[Consolidate BioFIND clinical data and alpha-synuclein SAA data](#toc0_)\n",
    "\n",
    "Notebook to tidy and consolidate multiple BioFIND data files into single table to facilitate application of new research diagnostic/staging system to BioFIND participants.\n",
    "\n",
    "**Date:** 11/3/2024  \n",
    "**Author:** Marco Russo, MD, PhD \n",
    "https://github.com/dr-russo    \n",
    "\n",
    "**Libraries**\n",
    "* pandas  \n",
    "* numpy   \n",
    "\n",
    "**BioFIND Data Files**  \n",
    "Data  obtained from the Fox Investigation for New Discovery of Biomarkers  (BioFIND) database, which is part of the USC Laboratory of Neuro Imaging (LONI) Image & Data Archive (IDA), through limited Data Use Agreement: https://ida.loni.usc.edu/collaboration/access/appLicense.jsp. For up-to-date information on the study, visit [www.michaeljfox.org/biofind](www.michaeljfox.org/biofind).\n",
    "\n",
    "Note, upon download, .csv file names have date of download appended as _%d%b%Y format, so adjust filenames accordingly:\n",
    "* Primary_Diagnosis_23Mar2024.csv | PATNO, PRIMMDIAG\n",
    "* Screening_Demographics_23Mar2024.csv | PATNO, \n",
    "* MDS_UPDRS_Part_I__Patient_Questionnaire_23Mar2024.csv\n",
    "* MDS_UPDRS_Part_I_23Mar2024.csv\n",
    "* MDS_UPDRS_Part_II__Patient_Questionnaire_23Mar2024.csv\n",
    "* MDS_UPDRS_Part_III__Post_Dose__23Mar2024.csv\n",
    "* MDS_UPDRS_Part_IV_23Mar2024.csv \n",
    "* Use_of_PD_Medication_23Mar2024.csv\n",
    "* REM_Sleep_Disorder_Questionnaire_23Mar2024.csv\n",
    "* Montreal_Cognitive_Assessment__MoCA__23Mar2024.csv\n",
    "* Biospecimen_Analysis_Results_23Mar2024.csv\n",
    "* PD_Features_23Mar2024.csv\n",
    "\n",
    "**Derived Data Files**  \n",
    "* biofind_ledd.csv  - created by biofind_ledd.ipynb\n",
    "\n",
    "**Output**\n",
    "* biofind_mds-updrs_data.csv - consolidated data table for all MDS-UPDRS data\n",
    "\n",
    "\n",
    "\n",
    "**Abbreviations**  \n",
    "PD: Parkinson's disease\n",
    "BioFIND: Fox Investigation for New Discovery of Biomarkers (BioFIND) cohort study\n",
    "LEDD: levdopa-equivalent daily dose\n",
    "MDS-UPDRS: Movement Disorder Society Unified Parkinson’s Disease Rating Scale\n",
    "MoCA: Montreal Cognitive Assessment\n",
    "NSD: Neuronal Synuclein Disease\n",
    "ISS: Integrated Staging System\n",
    "RBD: REM sleep behavior disorder\n"
   ]
  },
  {
   "cell_type": "markdown",
   "metadata": {},
   "source": [
    "**Table of contents**<a id='toc0_'></a>    \n",
    "- [Consolidate BioFIND clinical data and alpha-synuclein SAA data](#toc1_)    \n",
    "    - [Import list of participants and begin merging other data tables](#toc1_1_1_)    \n",
    "    - [Consolidate all MDS-UPDRS data](#toc1_1_2_)    \n",
    "    - [MDS-UPDRS Part 3 ON and OFF Medication Scores](#toc1_1_3_)    \n",
    "    - [Additional Non-motor Metrics](#toc1_1_4_)    \n",
    "    - [Combine all data tables into master table of BioFIND clinical and aSyn-SAA data](#toc1_1_5_)    \n",
    "    - [Write composite data to file](#toc1_1_6_)    \n",
    "\n",
    "<!-- vscode-jupyter-toc-config\n",
    "\tnumbering=false\n",
    "\tanchor=true\n",
    "\tflat=false\n",
    "\tminLevel=1\n",
    "\tmaxLevel=6\n",
    "\t/vscode-jupyter-toc-config -->\n",
    "<!-- THIS CELL WILL BE REPLACED ON TOC UPDATE. DO NOT WRITE YOUR TEXT IN THIS CELL -->"
   ]
  },
  {
   "cell_type": "code",
   "execution_count": 1,
   "metadata": {},
   "outputs": [],
   "source": [
    "# Imports\n",
    "import numpy as np\n",
    "import pandas as pd\n",
    "from pandas import DataFrame, Series"
   ]
  },
  {
   "cell_type": "code",
   "execution_count": null,
   "metadata": {},
   "outputs": [],
   "source": [
    "# Set display options\n",
    "pd.set_option('display.max_columns', 200)\n",
    "pd.set_option('display.max_rows', 500)\n",
    "\n",
    "# Enable multiline outputs\n",
    "from IPython.core.interactiveshell import InteractiveShell\n",
    "InteractiveShell.ast_node_interactivity = 'all'     \n",
    "\n",
    "# Set float formatting\n",
    "from IPython.display import display\n",
    "pd.options.display.float_format = '{:,.2f}'.format"
   ]
  },
  {
   "cell_type": "markdown",
   "metadata": {},
   "source": [
    "### <a id='toc1_1_1_'></a>[Import list of participants and begin merging other data tables](#toc0_)"
   ]
  },
  {
   "cell_type": "code",
   "execution_count": 3,
   "metadata": {},
   "outputs": [
    {
     "data": {
      "text/html": [
       "<div>\n",
       "<style scoped>\n",
       "    .dataframe tbody tr th:only-of-type {\n",
       "        vertical-align: middle;\n",
       "    }\n",
       "\n",
       "    .dataframe tbody tr th {\n",
       "        vertical-align: top;\n",
       "    }\n",
       "\n",
       "    .dataframe thead th {\n",
       "        text-align: right;\n",
       "    }\n",
       "</style>\n",
       "<table border=\"1\" class=\"dataframe\">\n",
       "  <thead>\n",
       "    <tr style=\"text-align: right;\">\n",
       "      <th></th>\n",
       "      <th>REC_ID</th>\n",
       "      <th>F_STATUS</th>\n",
       "      <th>EVENT_ID</th>\n",
       "      <th>PAG_NAME</th>\n",
       "      <th>INFODT</th>\n",
       "      <th>PRIMDIAG</th>\n",
       "      <th>OTHNEURO</th>\n",
       "      <th>ORIG_ENTRY</th>\n",
       "      <th>LAST_UPDATE</th>\n",
       "      <th>QUERY</th>\n",
       "      <th>SITE_APRV</th>\n",
       "    </tr>\n",
       "    <tr>\n",
       "      <th>PATNO</th>\n",
       "      <th></th>\n",
       "      <th></th>\n",
       "      <th></th>\n",
       "      <th></th>\n",
       "      <th></th>\n",
       "      <th></th>\n",
       "      <th></th>\n",
       "      <th></th>\n",
       "      <th></th>\n",
       "      <th></th>\n",
       "      <th></th>\n",
       "    </tr>\n",
       "  </thead>\n",
       "  <tbody>\n",
       "    <tr>\n",
       "      <th>1001</th>\n",
       "      <td>386165501</td>\n",
       "      <td>S</td>\n",
       "      <td>BL</td>\n",
       "      <td>PRIMDXPD</td>\n",
       "      <td>02/2013</td>\n",
       "      <td>17</td>\n",
       "      <td>NaN</td>\n",
       "      <td>02/2013</td>\n",
       "      <td>2016-01-19 10:37:07.0</td>\n",
       "      <td>NaN</td>\n",
       "      <td>04/2013</td>\n",
       "    </tr>\n",
       "    <tr>\n",
       "      <th>1002</th>\n",
       "      <td>388148401</td>\n",
       "      <td>S</td>\n",
       "      <td>BL</td>\n",
       "      <td>PRIMDXPD</td>\n",
       "      <td>03/2013</td>\n",
       "      <td>1</td>\n",
       "      <td>NaN</td>\n",
       "      <td>03/2013</td>\n",
       "      <td>2016-01-19 10:37:08.0</td>\n",
       "      <td>NaN</td>\n",
       "      <td>04/2013</td>\n",
       "    </tr>\n",
       "    <tr>\n",
       "      <th>1003</th>\n",
       "      <td>391865801</td>\n",
       "      <td>S</td>\n",
       "      <td>BL</td>\n",
       "      <td>PRIMDXPD</td>\n",
       "      <td>03/2013</td>\n",
       "      <td>1</td>\n",
       "      <td>NaN</td>\n",
       "      <td>04/2013</td>\n",
       "      <td>2016-01-19 10:37:09.0</td>\n",
       "      <td>NaN</td>\n",
       "      <td>04/2013</td>\n",
       "    </tr>\n",
       "    <tr>\n",
       "      <th>1004</th>\n",
       "      <td>392462501</td>\n",
       "      <td>S</td>\n",
       "      <td>BL</td>\n",
       "      <td>PRIMDXPD</td>\n",
       "      <td>04/2013</td>\n",
       "      <td>1</td>\n",
       "      <td>NaN</td>\n",
       "      <td>04/2013</td>\n",
       "      <td>2016-01-19 10:37:10.0</td>\n",
       "      <td>NaN</td>\n",
       "      <td>04/2013</td>\n",
       "    </tr>\n",
       "    <tr>\n",
       "      <th>1005</th>\n",
       "      <td>398569401</td>\n",
       "      <td>S</td>\n",
       "      <td>BL</td>\n",
       "      <td>PRIMDXPD</td>\n",
       "      <td>05/2013</td>\n",
       "      <td>17</td>\n",
       "      <td>NaN</td>\n",
       "      <td>05/2013</td>\n",
       "      <td>2016-01-19 10:37:12.0</td>\n",
       "      <td>NaN</td>\n",
       "      <td>05/2013</td>\n",
       "    </tr>\n",
       "  </tbody>\n",
       "</table>\n",
       "</div>"
      ],
      "text/plain": [
       "          REC_ID F_STATUS EVENT_ID  PAG_NAME   INFODT  PRIMDIAG OTHNEURO  \\\n",
       "PATNO                                                                      \n",
       "1001   386165501        S       BL  PRIMDXPD  02/2013        17      NaN   \n",
       "1002   388148401        S       BL  PRIMDXPD  03/2013         1      NaN   \n",
       "1003   391865801        S       BL  PRIMDXPD  03/2013         1      NaN   \n",
       "1004   392462501        S       BL  PRIMDXPD  04/2013         1      NaN   \n",
       "1005   398569401        S       BL  PRIMDXPD  05/2013        17      NaN   \n",
       "\n",
       "      ORIG_ENTRY            LAST_UPDATE  QUERY SITE_APRV  \n",
       "PATNO                                                     \n",
       "1001     02/2013  2016-01-19 10:37:07.0    NaN   04/2013  \n",
       "1002     03/2013  2016-01-19 10:37:08.0    NaN   04/2013  \n",
       "1003     04/2013  2016-01-19 10:37:09.0    NaN   04/2013  \n",
       "1004     04/2013  2016-01-19 10:37:10.0    NaN   04/2013  \n",
       "1005     05/2013  2016-01-19 10:37:12.0    NaN   05/2013  "
      ]
     },
     "execution_count": 3,
     "metadata": {},
     "output_type": "execute_result"
    }
   ],
   "source": [
    "# Start with primary diagnosis table as master list of consented paricipants \n",
    "# PATNO is index\n",
    "data = pd.read_csv('Primary_Diagnosis_23Mar2024.csv', header=0, index_col='PATNO')\n",
    "data.sort_index().head() "
   ]
  },
  {
   "cell_type": "code",
   "execution_count": 4,
   "metadata": {},
   "outputs": [],
   "source": [
    "# Load Screening/Demographics table  \n",
    "screen = pd.read_csv('Screening_Demographics_23Mar2024.csv', header=0, index_col='PATNO')"
   ]
  },
  {
   "cell_type": "code",
   "execution_count": 5,
   "metadata": {},
   "outputs": [],
   "source": [
    "# Merge screen into initial data table on PATNO\n",
    "data = pd.merge(left=data, right=screen[['BIRTHDT','APPRDX','PRJENRDT','EXCLUDED','GENDER']], left_index=True, right_index=True, how='left')"
   ]
  },
  {
   "cell_type": "code",
   "execution_count": 6,
   "metadata": {},
   "outputs": [],
   "source": [
    "# Convert to datetime types\n",
    "data['BIRTHDT'] = pd.to_datetime(data['BIRTHDT'], format='%Y', yearfirst=True)\n",
    "data['INFODT'] = pd.to_datetime(data['INFODT'], format='mixed')\n",
    "data['PRJENRDT'] = pd.to_datetime(data['PRJENRDT'], format='mixed')\n",
    "\n",
    "# Calculate AGE at enrollment\n",
    "data['AGE'] = ((data['PRJENRDT'] - data['BIRTHDT']) / np.timedelta64(365,'D')).round(1)"
   ]
  },
  {
   "cell_type": "code",
   "execution_count": 7,
   "metadata": {},
   "outputs": [],
   "source": [
    "# Include only non-excluded subjects - NaN for excluded => enrolled\n",
    "data = data[data['EXCLUDED'].isnull()]"
   ]
  },
  {
   "cell_type": "code",
   "execution_count": 8,
   "metadata": {},
   "outputs": [],
   "source": [
    "# List of standard columns to drop prior to merges (to avoid naming conflicts and subscripts appended to column names)\n",
    "drop_cols = ['REC_ID','F_STATUS','PAG_NAME','ORIG_ENTRY','LAST_UPDATE','QUERY','SITE_APRV']\n",
    "data.drop(columns=drop_cols, inplace=True)"
   ]
  },
  {
   "cell_type": "code",
   "execution_count": 9,
   "metadata": {},
   "outputs": [
    {
     "name": "stdout",
     "output_type": "stream",
     "text": [
      "<class 'pandas.core.frame.DataFrame'>\n",
      "Index: 119 entries, 1002 to 1200\n",
      "Data columns (total 8 columns):\n",
      " #   Column    Non-Null Count  Dtype         \n",
      "---  ------    --------------  -----         \n",
      " 0   EVENT_ID  119 non-null    object        \n",
      " 1   PRIMDIAG  119 non-null    int64         \n",
      " 2   BIRTHDT   119 non-null    datetime64[ns]\n",
      " 3   APPRDX    119 non-null    int64         \n",
      " 4   PRJENRDT  119 non-null    datetime64[ns]\n",
      " 5   EXCLUDED  0 non-null      float64       \n",
      " 6   GENDER    119 non-null    int64         \n",
      " 7   AGE       119 non-null    float64       \n",
      "dtypes: datetime64[ns](2), float64(2), int64(3), object(1)\n",
      "memory usage: 12.4+ KB\n"
     ]
    }
   ],
   "source": [
    "# Select only PRIMDIAG == 1 for PD participants\n",
    "# Select only baseline (BL) visits \n",
    "pd_subgroup = data[(data['PRIMDIAG'] == 1)].where(data['EVENT_ID'] == 'BL')\n",
    "pd_subgroup.drop(columns=['INFODT','OTHNEURO'], inplace=True)\n",
    "\n",
    "# Check, n = 119 participants \n",
    "pd_subgroup.info() "
   ]
  },
  {
   "cell_type": "code",
   "execution_count": 10,
   "metadata": {},
   "outputs": [],
   "source": [
    "# Read data table with medication status\n",
    "med_status = pd.read_csv('Use_of_PD_Medication_23Mar2024.csv', header=0, index_col='PATNO')"
   ]
  },
  {
   "cell_type": "code",
   "execution_count": 11,
   "metadata": {},
   "outputs": [
    {
     "name": "stdout",
     "output_type": "stream",
     "text": [
      "<class 'pandas.core.frame.DataFrame'>\n",
      "Index: 119 entries, 1002 to 1200\n",
      "Data columns (total 9 columns):\n",
      " #   Column    Non-Null Count  Dtype         \n",
      "---  ------    --------------  -----         \n",
      " 0   EVENT_ID  119 non-null    object        \n",
      " 1   PRIMDIAG  119 non-null    int64         \n",
      " 2   BIRTHDT   119 non-null    datetime64[ns]\n",
      " 3   APPRDX    119 non-null    int64         \n",
      " 4   PRJENRDT  119 non-null    datetime64[ns]\n",
      " 5   EXCLUDED  0 non-null      float64       \n",
      " 6   GENDER    119 non-null    int64         \n",
      " 7   AGE       119 non-null    float64       \n",
      " 8   PDMEDYN   119 non-null    int64         \n",
      "dtypes: datetime64[ns](2), float64(2), int64(4), object(1)\n",
      "memory usage: 13.4+ KB\n"
     ]
    }
   ],
   "source": [
    "# Merge medication status into pd_subgroup, take only 'BL' data\n",
    "med_status = med_status[med_status['EVENT_ID'] == 'BL']\n",
    "pd_subgroup =  pd.merge(left=pd_subgroup, right=med_status['PDMEDYN'], left_index=True, right_index=True, how='left')\n",
    "pd_subgroup.info()"
   ]
  },
  {
   "cell_type": "code",
   "execution_count": 12,
   "metadata": {},
   "outputs": [],
   "source": [
    "# Load PD features table \n",
    "# Provides times since diagnosis and times since diagnosis\n",
    "pd_features = pd.read_csv('PD_Features_23Mar2024.csv', dtype={'SXMO':'Int64', 'SXYEAR':'Int64'}, header=0, index_col='PATNO')"
   ]
  },
  {
   "cell_type": "code",
   "execution_count": 13,
   "metadata": {},
   "outputs": [],
   "source": [
    "# Fill several NaN values in SXMO\n",
    "pd_features.fillna({'SXMO': 6}, inplace=True) "
   ]
  },
  {
   "cell_type": "code",
   "execution_count": 14,
   "metadata": {},
   "outputs": [],
   "source": [
    "# Combine time of symptom onset into single month-year format\n",
    "pd_features['SXDT'] = pd.to_datetime(pd_features['SXMO'].astype(str) + '/' + pd_features['SXYEAR'].astype(str), format='mixed')"
   ]
  },
  {
   "cell_type": "code",
   "execution_count": 15,
   "metadata": {},
   "outputs": [],
   "source": [
    "# Convert to datetime format\n",
    "pd_features['INFODT'] = pd.to_datetime(pd_features['INFODT'], format='mixed')\n",
    "pd_features['PDDXDT'] = pd.to_datetime(pd_features['PDDXDT'], format='mixed')"
   ]
  },
  {
   "cell_type": "code",
   "execution_count": 16,
   "metadata": {},
   "outputs": [],
   "source": [
    "# Calculate disease duration from symptom onset \n",
    "pd_features['DUR_SYMP'] = (pd_features['INFODT'] - pd_features['SXDT']) / np.timedelta64(365, 'D')"
   ]
  },
  {
   "cell_type": "code",
   "execution_count": 17,
   "metadata": {},
   "outputs": [],
   "source": [
    "# Calculate disease duration from initial diagnosis\n",
    "pd_features['DUR_DIAG'] = (pd_features['INFODT'] - pd_features['PDDXDT']) / np.timedelta64(365, 'D')\n",
    "\n",
    "pd_features.loc[pd_features['DUR_DIAG'] < 0, 'DUR_DIAG'] = 0  # Coerce negative values to 0 - due to PATNO 1077 where INFODT 4/2014 but PDDXDT 6/2014, only instance"
   ]
  },
  {
   "cell_type": "code",
   "execution_count": null,
   "metadata": {},
   "outputs": [],
   "source": [
    "# Uncomment these to see deccriptive statistics for Time since Diagnosis and Time since Symptom onset\n",
    "# pd_features['DUR_DIAG'].apply([np.mean, np.median, np.std, np.min, np.max])\n",
    "# pd_features['DUR_SYMP'].apply([np.mean, np.median, np.std, np.min, np.max])"
   ]
  },
  {
   "cell_type": "markdown",
   "metadata": {},
   "source": [
    "### <a id='toc1_1_2_'></a>[Consolidate all MDS-UPDRS data](#toc0_)"
   ]
  },
  {
   "cell_type": "code",
   "execution_count": 20,
   "metadata": {},
   "outputs": [],
   "source": [
    "# Load UPDRS Parts 1, 1Q, 2, 3\n",
    "part1 = pd.read_csv('MDS_UPDRS_Part_I_23Mar2024.csv', header=0, index_col='PATNO')\n",
    "part1q = pd.read_csv('MDS_UPDRS_Part_I__Patient_Questionnaire_23Mar2024.csv', header=0, index_col='PATNO')\n",
    "part2 = pd.read_csv('MDS_UPDRS_Part_II__Patient_Questionnaire_23Mar2024.csv', header=0, index_col='PATNO')\n",
    "part3 = pd.read_csv('MDS_UPDRS_Part_III__Post_Dose__23Mar2024.csv', header=0, index_col='PATNO')"
   ]
  },
  {
   "cell_type": "code",
   "execution_count": 22,
   "metadata": {},
   "outputs": [],
   "source": [
    "# Create several lists of column names to easily reference appropriate items from each MDS-UPDRS part\n",
    "\n",
    "# Create lists of columns to be included from each csv file\n",
    "part1_cols = [\"NP1COG\", \"NP1HALL\", \"NP1DPRS\", \"NP1ANXS\", \"NP1APAT\", \"NP1DDS\"]\n",
    "part1q_cols = [\n",
    "    \"NP1SLPN\",\n",
    "    \"NP1SLPD\",\n",
    "    \"NP1PAIN\",\n",
    "    \"NP1URIN\",\n",
    "    \"NP1CNST\",\n",
    "    \"NP1LTHD\",\n",
    "    \"NP1FATG\",\n",
    "]\n",
    "\n",
    "# Remove Q1.1 or NP1COG from TOTAL SCORE for PART I\n",
    "part1_cols_scoring = [\n",
    "    \"NP1HALL\",\n",
    "    \"NP1DPRS\",\n",
    "    \"NP1ANXS\",\n",
    "    \"NP1APAT\",\n",
    "    \"NP1DDS\",\n",
    "    \"NP1SLPN\",\n",
    "    \"NP1SLPD\",\n",
    "    \"NP1PAIN\",\n",
    "    \"NP1URIN\",\n",
    "    \"NP1CNST\",\n",
    "    \"NP1LTHD\",\n",
    "    \"NP1FATG\",\n",
    "]\n",
    "\n",
    "part2_cols = [\n",
    "    \"NP2SPCH\",\n",
    "    \"NP2SALV\",\n",
    "    \"NP2SWAL\",\n",
    "    \"NP2EAT\",\n",
    "    \"NP2DRES\",\n",
    "    \"NP2HYGN\",\n",
    "    \"NP2HWRT\",\n",
    "    \"NP2HOBB\",\n",
    "    \"NP2TURN\",\n",
    "    \"NP2TRMR\",\n",
    "    \"NP2RISE\",\n",
    "    \"NP2WALK\",\n",
    "    \"NP2FREZ\",\n",
    "]\n",
    "\n",
    "part3_cols = [\n",
    "    \"NP3SPCH\",\n",
    "    \"NP3FACXP\",\n",
    "    \"NP3RIGN\",\n",
    "    \"NP3RIGRU\",\n",
    "    \"NP3RIGLU\",\n",
    "    \"PN3RIGRL\",\n",
    "    \"NP3RIGLL\",\n",
    "    \"NP3FTAPR\",\n",
    "    \"NP3FTAPL\",\n",
    "    \"NP3HMOVR\",\n",
    "    \"NP3HMOVL\",\n",
    "    \"NP3PRSPR\",\n",
    "    \"NP3PRSPL\",\n",
    "    \"NP3TTAPR\",\n",
    "    \"NP3TTAPL\",\n",
    "    \"NP3LGAGR\",\n",
    "    \"NP3LGAGL\",\n",
    "    \"NP3RISNG\",\n",
    "    \"NP3GAIT\",\n",
    "    \"NP3FRZGT\",\n",
    "    \"NP3PSTBL\",\n",
    "    \"NP3POSTR\",\n",
    "    \"NP3BRADY\",\n",
    "    \"NP3PTRMR\",\n",
    "    \"NP3PTRML\",\n",
    "    \"NP3KTRMR\",\n",
    "    \"NP3KTRML\",\n",
    "    \"NP3RTARU\",\n",
    "    \"NP3RTALU\",\n",
    "    \"NP3RTARL\",\n",
    "    \"NP3RTALL\",\n",
    "    \"NP3RTALJ\",\n",
    "    \"NP3RTCON\",\n",
    "    \"DYSKPRES\",\n",
    "    \"DYSKIRAT\",\n",
    "    \"NHY\",\n",
    "]\n",
    "\n",
    "# Remove postural and kinetic/action tremor from UPDRS PART III scoring\n",
    "part3_cols_scoring = [\n",
    "    \"NP3SPCH\",\n",
    "    \"NP3FACXP\",\n",
    "    \"NP3RIGN\",\n",
    "    \"NP3RIGRU\",\n",
    "    \"NP3RIGLU\",\n",
    "    \"PN3RIGRL\",\n",
    "    \"NP3RIGLL\",\n",
    "    \"NP3FTAPR\",\n",
    "    \"NP3FTAPL\",\n",
    "    \"NP3HMOVR\",\n",
    "    \"NP3HMOVL\",\n",
    "    \"NP3PRSPR\",\n",
    "    \"NP3PRSPL\",\n",
    "    \"NP3TTAPR\",\n",
    "    \"NP3TTAPL\",\n",
    "    \"NP3LGAGR\",\n",
    "    \"NP3LGAGL\",\n",
    "    \"NP3RISNG\",\n",
    "    \"NP3GAIT\",\n",
    "    \"NP3FRZGT\",\n",
    "    \"NP3PSTBL\",\n",
    "    \"NP3POSTR\",\n",
    "    \"NP3BRADY\",\n",
    "    \"NP3RTARU\",\n",
    "    \"NP3RTALU\",\n",
    "    \"NP3RTARL\",\n",
    "    \"NP3RTALL\",\n",
    "    \"NP3RTALJ\",\n",
    "    \"NP3RTCON\",\n",
    "]\n",
    "\n",
    "# part4_cols = ['NP4WDYSK','NP4DYSKI','NP4OFF','NP4FLCTI','NP4FLCTX','NP4DYSTN'] --NOT NEEDED\n",
    "\n",
    "# TD columns\n",
    "td_score_cols = [\n",
    "    \"NP2TRMR\",\n",
    "    \"NP3PTRMR\",\n",
    "    \"NP3PTRML\",\n",
    "    \"NP3KTRMR\",\n",
    "    \"NP3KTRML\",\n",
    "    \"NP3RTARU\",\n",
    "    \"NP3RTALU\",\n",
    "    \"NP3RTARL\",\n",
    "    \"NP3RTALL\",\n",
    "    \"NP3RTALJ\",\n",
    "    \"NP3RTCON\",\n",
    "]\n",
    "\n",
    "pigd_score_cols = [\"NP2WALK\", \"NP2FREZ\", \"NP3GAIT\", \"NP3FRZGT\", \"NP3PSTBL\"]"
   ]
  },
  {
   "cell_type": "code",
   "execution_count": null,
   "metadata": {},
   "outputs": [],
   "source": [
    "# Merge UPDRS Parts into single master MDS-UPDRS table using the above lists to select only needed columns\n",
    "\n",
    "# MDS-UPRDS Part 1\n",
    "part1 = part1[part1['EVENT_ID']=='BL'] # Baseline only data\n",
    "updrs_data = pd.merge(left=pd_subgroup, right=part1[part1_cols], how='left', left_index=True, right_index=True, validate='1:1')"
   ]
  },
  {
   "cell_type": "code",
   "execution_count": 24,
   "metadata": {},
   "outputs": [],
   "source": [
    "# MDS-UPDRS Part 1Q\n",
    "part1q = part1q[part1q['EVENT_ID'] == 'BL'] # Baseline only data\n",
    "updrs_data = pd.merge(left=updrs_data, right=part1q[part1q_cols], how='left',left_index=True, right_index=True)"
   ]
  },
  {
   "cell_type": "code",
   "execution_count": 25,
   "metadata": {},
   "outputs": [],
   "source": [
    "# MDS-UPDRS Part 2\n",
    "part2 = part2[part2['EVENT_ID']=='BL']\n",
    "updrs_data = pd.merge(left=updrs_data, right=part2[part2_cols], how='left',left_index=True, right_index=True)"
   ]
  },
  {
   "cell_type": "code",
   "execution_count": 29,
   "metadata": {},
   "outputs": [],
   "source": [
    "part3 = part3[part3['EVENT_ID']=='BL']\n",
    "updrs_data = pd.merge(left=updrs_data, right=part3[part3_cols], left_index=True, right_index=True, how='left')"
   ]
  },
  {
   "cell_type": "code",
   "execution_count": 26,
   "metadata": {},
   "outputs": [],
   "source": [
    "# MDS-UPDRS Part 3 Totals\n",
    "part3['P3TOT'] = part3[part3_cols_scoring].sum(axis=1)"
   ]
  },
  {
   "cell_type": "code",
   "execution_count": null,
   "metadata": {},
   "outputs": [],
   "source": [
    "updrs_data['P1TOT'] = updrs_data[part1_cols_scoring].sum(axis=1) \n",
    "updrs_data['P2TOT'] = updrs_data[part2_cols].sum(axis=1)\n",
    "updrs_data['P3TOT'] = updrs_data[part3_cols_scoring].sum(axis=1) # Effectively 'ON' scores since taken from baseline"
   ]
  },
  {
   "cell_type": "markdown",
   "metadata": {},
   "source": [
    "### <a id='toc1_1_3_'></a>[MDS-UPDRS Part 3 ON and OFF Medication Scores](#toc0_)"
   ]
  },
  {
   "cell_type": "code",
   "execution_count": 27,
   "metadata": {},
   "outputs": [],
   "source": [
    "# MDS-UPDRS Part 3\n",
    "# Part 3 unique as it has both OFF MEDICATION and ON MEDICATION scores \n",
    "part3_onoff = part3.pivot_table(index='PATNO',values='P3TOT',columns='EVENT_ID')\n",
    "part3_onoff.rename(columns={'BL':'P3ON','V02':'P3OFF'}, inplace=True)"
   ]
  },
  {
   "cell_type": "code",
   "execution_count": 31,
   "metadata": {},
   "outputs": [],
   "source": [
    "updrs_data = pd.merge(left=updrs_data, right=part3_onoff[['P3ON','P3OFF']], left_index=True, right_index=True, how='left')"
   ]
  },
  {
   "cell_type": "code",
   "execution_count": null,
   "metadata": {},
   "outputs": [],
   "source": [
    "# Write UPDRS composite data to separate file\n",
    "updrs_data.to_csv('biofind_mds-updrs_data.csv')"
   ]
  },
  {
   "cell_type": "markdown",
   "metadata": {},
   "source": [
    "### <a id='toc1_1_4_'></a>[Additional Non-motor Metrics](#toc0_)"
   ]
  },
  {
   "cell_type": "code",
   "execution_count": 33,
   "metadata": {},
   "outputs": [],
   "source": [
    "# Create list of relevant columns from RBD sleep questionnaire \n",
    "rbd_cols = ['DRMVIVID','DRMAGRAC','DRMNOCTB','SLPLMBMV','SLPINJUR','DRMVERBL','DRMFIGHT','DRMUMV','DRMOBJFL','MVAWAKEN','DRMREMEM','SLPDSTRB']\n",
    "rbd_other_cols = ['STROKE','HETRA','PARKISM','RLS','NARCLPSY','DEPRS','EPILEPSY','BRNINFM','CNSOTH']"
   ]
  },
  {
   "cell_type": "code",
   "execution_count": 40,
   "metadata": {},
   "outputs": [],
   "source": [
    "# Load RBD Sleep Questionnaire \n",
    "rbdsq_data = pd.read_csv('REM_Sleep_Disorder_Questionnaire_23Mar2024.csv', index_col='PATNO', header=0)"
   ]
  },
  {
   "cell_type": "code",
   "execution_count": 41,
   "metadata": {},
   "outputs": [],
   "source": [
    "# Select only baseline data \n",
    "rbdsq_data = rbdsq[rbdsq['EVENT_ID']=='BL']"
   ]
  },
  {
   "cell_type": "code",
   "execution_count": 42,
   "metadata": {},
   "outputs": [],
   "source": [
    "# Calculate total RBDSQ score from sum of questions 1-10, with single point for any positive response for Q10 [as in BioFIND]\n",
    "rbdsq_data['RBDSQ_TOTAL'] = rbdsq_data[rbd_cols].sum(axis=1) + rbdsq_data[rbd_other_cols].any(axis=1)"
   ]
  },
  {
   "cell_type": "code",
   "execution_count": 43,
   "metadata": {},
   "outputs": [],
   "source": [
    "# Flag RBD status as POSITIVE by questionnaire if Total RBD score >= 6\n",
    "rbdsq_data['RBD_STATUS'] = rbdsq_data['RBDSQ_TOTAL'].apply(lambda x : 1 if x >= 6 else 0)"
   ]
  },
  {
   "cell_type": "code",
   "execution_count": 44,
   "metadata": {},
   "outputs": [],
   "source": [
    "# Load Montreal Cognitive Assessment (MoCA) data \n",
    "moca_data = pd.read_csv('Montreal_Cognitive_Assessment__MoCA__23Mar2024.csv', header=0, index_col='PATNO')"
   ]
  },
  {
   "cell_type": "code",
   "execution_count": 45,
   "metadata": {},
   "outputs": [],
   "source": [
    "# Load biospecimen data - for seed amplification assay (SAA) data\n",
    "biospec_data = pd.read_csv('Biospecimen_Analysis_Results_23Mar2024.csv', header=0)"
   ]
  },
  {
   "cell_type": "code",
   "execution_count": 46,
   "metadata": {},
   "outputs": [],
   "source": [
    "# Alpha-Syn Seed Amplification Assay (SAA) data (3 labs)\n",
    "saa_data = biospec_data[biospec_data['TESTNAME'].isin(['RT-QuIC Result','RT-QuIC','aSyn-PMCA'])].pivot(index='PATNO',columns='PI_NAME',values='TESTVALUE')"
   ]
  },
  {
   "cell_type": "code",
   "execution_count": null,
   "metadata": {},
   "outputs": [],
   "source": [
    "# Load LEDD medication data that is derived from accompanying notebook 'biofind_ledd.ipynb'\n",
    "ledd_data = pd.read_csv('biofind_ledd.csv', index_col='PATNO', header=0)"
   ]
  },
  {
   "cell_type": "markdown",
   "metadata": {},
   "source": [
    "### <a id='toc1_1_5_'></a>[Combine all data tables into master table of BioFIND clinical and aSyn-SAA data](#toc0_)"
   ]
  },
  {
   "cell_type": "code",
   "execution_count": 48,
   "metadata": {},
   "outputs": [],
   "source": [
    "# Combine into master data table that includes MED STATUS, UPDRS, RBDSQ, and MOCA\n",
    "data = pd.merge(left=updrs_data, right=rbdsq_data[['RBDSQ_TOTAL','RBD_STATUS']], left_index=True, right_index=True, how='left')"
   ]
  },
  {
   "cell_type": "code",
   "execution_count": 49,
   "metadata": {},
   "outputs": [],
   "source": [
    "data = pd.merge(left=data, right=moca_data[['MCATOT']], left_index=True, right_index=True, how='left')"
   ]
  },
  {
   "cell_type": "code",
   "execution_count": 50,
   "metadata": {},
   "outputs": [],
   "source": [
    "data = pd.merge(left=data, right=saa_data, left_index=True, right_index=True, how='left')"
   ]
  },
  {
   "cell_type": "code",
   "execution_count": 51,
   "metadata": {},
   "outputs": [],
   "source": [
    "data = pd.merge(left=data, right=pd_features[['DUR_SYMP', 'DUR_DIAG']], left_index=True, right_index=True, how='left')"
   ]
  },
  {
   "cell_type": "code",
   "execution_count": 53,
   "metadata": {},
   "outputs": [],
   "source": [
    "data = pd.merge(left=data, right=ledd_data, left_index=True, right_index=True, how='left')"
   ]
  },
  {
   "cell_type": "code",
   "execution_count": 54,
   "metadata": {},
   "outputs": [],
   "source": [
    "# Rename aSyn-SAA results according to each lab PI in simplified form\n",
    "data.rename(columns={'Alison Green':'SAA_AG','Byron Caughey':'SAA_BC', 'Claudio Soto':'SAA_CS'}, inplace=True)"
   ]
  },
  {
   "cell_type": "code",
   "execution_count": 55,
   "metadata": {},
   "outputs": [],
   "source": [
    "# Calculate TD score as sum of td_score_cols in MDS-UPRDS Part 3 \n",
    "data['TDSCORE'] = data[td_score_cols].sum(axis=1)"
   ]
  },
  {
   "cell_type": "code",
   "execution_count": 56,
   "metadata": {},
   "outputs": [],
   "source": [
    "# Calculate PIGD score as sum of td_score_cols in MDS-UPRDS Part 3 \n",
    "data['PIGDSCORE'] = data[pigd_score_cols].sum(axis=1)"
   ]
  },
  {
   "cell_type": "code",
   "execution_count": 57,
   "metadata": {},
   "outputs": [],
   "source": [
    "# Calculate ratio of TD score to PIGD score\n",
    "data['TDPIGDRATIO'] = data['TDSCORE']/data['PIGDSCORE']\n",
    "data.loc[~np.isfinite(data['TDPIGDRATIO']),'TDPIGDRATIO'] = np.nan"
   ]
  },
  {
   "cell_type": "code",
   "execution_count": null,
   "metadata": {},
   "outputs": [],
   "source": [
    "# Determine the motor phenotype TD vs. PIGD according to the following comparisons:\n",
    "def calc_tdpigd(ratio):\n",
    "    if ratio >= 1.15:\n",
    "        return 'TD'\n",
    "    elif ratio <= 0.9:\n",
    "        return 'PIGD'\n",
    "    elif (ratio > 0.9) & (ratio < 1.15):\n",
    "        return 'IND'\n",
    "\n",
    "data.loc[:,'MOTORTYPE'] = data['TDPIGDRATIO'].apply(lambda x: calc_tdpigd(x))"
   ]
  },
  {
   "cell_type": "markdown",
   "metadata": {},
   "source": [
    "### <a id='toc1_1_6_'></a>[Write composite data to file](#toc0_)"
   ]
  },
  {
   "cell_type": "code",
   "execution_count": 59,
   "metadata": {},
   "outputs": [],
   "source": [
    "# Save composite data, includes: \n",
    "# PD Features\n",
    "# Demographics\n",
    "# MDS-UPDRS\n",
    "# RBDQ\n",
    "# MoCA \n",
    "# aSyn-SAA data\n",
    "data.to_csv('biofind_composite_data.csv')"
   ]
  }
 ],
 "metadata": {
  "kernelspec": {
   "display_name": "base",
   "language": "python",
   "name": "python3"
  },
  "language_info": {
   "codemirror_mode": {
    "name": "ipython",
    "version": 3
   },
   "file_extension": ".py",
   "mimetype": "text/x-python",
   "name": "python",
   "nbconvert_exporter": "python",
   "pygments_lexer": "ipython3",
   "version": "3.12.2"
  }
 },
 "nbformat": 4,
 "nbformat_minor": 2
}
